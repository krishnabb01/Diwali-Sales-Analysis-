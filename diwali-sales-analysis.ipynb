{
 "cells": [
  {
   "cell_type": "code",
   "execution_count": 1,
   "id": "af4f508d",
   "metadata": {
    "_cell_guid": "b1076dfc-b9ad-4769-8c92-a6c4dae69d19",
    "_uuid": "8f2839f25d086af736a60e9eeb907d3b93b6e0e5",
    "execution": {
     "iopub.execute_input": "2024-05-08T06:16:44.243609Z",
     "iopub.status.busy": "2024-05-08T06:16:44.242968Z",
     "iopub.status.idle": "2024-05-08T06:16:46.687238Z",
     "shell.execute_reply": "2024-05-08T06:16:46.685950Z"
    },
    "papermill": {
     "duration": 2.458415,
     "end_time": "2024-05-08T06:16:46.689443",
     "exception": false,
     "start_time": "2024-05-08T06:16:44.231028",
     "status": "completed"
    },
    "tags": []
   },
   "outputs": [],
   "source": [
    "import numpy as np # linear algebra\n",
    "import pandas as pd # data processing, CSV file I/O (e.g. pd.read_csv)\n",
    "import matplotlib.pyplot as plt\n",
    "import seaborn as sns\n",
    "import warnings\n",
    "warnings.filterwarnings('ignore')"
   ]
  },
  {
   "cell_type": "code",
   "execution_count": 2,
   "id": "29450ee1",
   "metadata": {
    "execution": {
     "iopub.execute_input": "2024-05-08T06:16:46.712196Z",
     "iopub.status.busy": "2024-05-08T06:16:46.711498Z",
     "iopub.status.idle": "2024-05-08T06:16:46.759030Z",
     "shell.execute_reply": "2024-05-08T06:16:46.757916Z"
    },
    "papermill": {
     "duration": 0.0617,
     "end_time": "2024-05-08T06:16:46.761330",
     "exception": false,
     "start_time": "2024-05-08T06:16:46.699630",
     "status": "completed"
    },
    "tags": []
   },
   "outputs": [],
   "source": [
    "df = pd.read_csv(r\"Diwali Sales Data.csv\", encoding='latin1')"
   ]
  },
  {
   "cell_type": "code",
   "execution_count": 3,
   "id": "207ddb71",
   "metadata": {
    "execution": {
     "iopub.execute_input": "2024-05-08T06:16:46.782757Z",
     "iopub.status.busy": "2024-05-08T06:16:46.782283Z",
     "iopub.status.idle": "2024-05-08T06:16:46.811420Z",
     "shell.execute_reply": "2024-05-08T06:16:46.810243Z"
    },
    "papermill": {
     "duration": 0.04275,
     "end_time": "2024-05-08T06:16:46.813968",
     "exception": false,
     "start_time": "2024-05-08T06:16:46.771218",
     "status": "completed"
    },
    "tags": []
   },
   "outputs": [
    {
     "data": {
      "text/html": [
       "<div>\n",
       "<style scoped>\n",
       "    .dataframe tbody tr th:only-of-type {\n",
       "        vertical-align: middle;\n",
       "    }\n",
       "\n",
       "    .dataframe tbody tr th {\n",
       "        vertical-align: top;\n",
       "    }\n",
       "\n",
       "    .dataframe thead th {\n",
       "        text-align: right;\n",
       "    }\n",
       "</style>\n",
       "<table border=\"1\" class=\"dataframe\">\n",
       "  <thead>\n",
       "    <tr style=\"text-align: right;\">\n",
       "      <th></th>\n",
       "      <th>User_ID</th>\n",
       "      <th>Cust_name</th>\n",
       "      <th>Product_ID</th>\n",
       "      <th>Gender</th>\n",
       "      <th>Age Group</th>\n",
       "      <th>Age</th>\n",
       "      <th>Marital_Status</th>\n",
       "      <th>State</th>\n",
       "      <th>Zone</th>\n",
       "      <th>Occupation</th>\n",
       "      <th>Product_Category</th>\n",
       "      <th>Orders</th>\n",
       "      <th>Amount</th>\n",
       "      <th>Status</th>\n",
       "      <th>unnamed1</th>\n",
       "    </tr>\n",
       "  </thead>\n",
       "  <tbody>\n",
       "    <tr>\n",
       "      <th>0</th>\n",
       "      <td>1002903</td>\n",
       "      <td>Sanskriti</td>\n",
       "      <td>P00125942</td>\n",
       "      <td>F</td>\n",
       "      <td>26-35</td>\n",
       "      <td>28</td>\n",
       "      <td>0</td>\n",
       "      <td>Maharashtra</td>\n",
       "      <td>Western</td>\n",
       "      <td>Healthcare</td>\n",
       "      <td>Auto</td>\n",
       "      <td>1</td>\n",
       "      <td>23952.0</td>\n",
       "      <td>NaN</td>\n",
       "      <td>NaN</td>\n",
       "    </tr>\n",
       "    <tr>\n",
       "      <th>1</th>\n",
       "      <td>1000732</td>\n",
       "      <td>Kartik</td>\n",
       "      <td>P00110942</td>\n",
       "      <td>F</td>\n",
       "      <td>26-35</td>\n",
       "      <td>35</td>\n",
       "      <td>1</td>\n",
       "      <td>Andhra Pradesh</td>\n",
       "      <td>Southern</td>\n",
       "      <td>Govt</td>\n",
       "      <td>Auto</td>\n",
       "      <td>3</td>\n",
       "      <td>23934.0</td>\n",
       "      <td>NaN</td>\n",
       "      <td>NaN</td>\n",
       "    </tr>\n",
       "    <tr>\n",
       "      <th>2</th>\n",
       "      <td>1001990</td>\n",
       "      <td>Bindu</td>\n",
       "      <td>P00118542</td>\n",
       "      <td>F</td>\n",
       "      <td>26-35</td>\n",
       "      <td>35</td>\n",
       "      <td>1</td>\n",
       "      <td>Uttar Pradesh</td>\n",
       "      <td>Central</td>\n",
       "      <td>Automobile</td>\n",
       "      <td>Auto</td>\n",
       "      <td>3</td>\n",
       "      <td>23924.0</td>\n",
       "      <td>NaN</td>\n",
       "      <td>NaN</td>\n",
       "    </tr>\n",
       "    <tr>\n",
       "      <th>3</th>\n",
       "      <td>1001425</td>\n",
       "      <td>Sudevi</td>\n",
       "      <td>P00237842</td>\n",
       "      <td>M</td>\n",
       "      <td>0-17</td>\n",
       "      <td>16</td>\n",
       "      <td>0</td>\n",
       "      <td>Karnataka</td>\n",
       "      <td>Southern</td>\n",
       "      <td>Construction</td>\n",
       "      <td>Auto</td>\n",
       "      <td>2</td>\n",
       "      <td>23912.0</td>\n",
       "      <td>NaN</td>\n",
       "      <td>NaN</td>\n",
       "    </tr>\n",
       "    <tr>\n",
       "      <th>4</th>\n",
       "      <td>1000588</td>\n",
       "      <td>Joni</td>\n",
       "      <td>P00057942</td>\n",
       "      <td>M</td>\n",
       "      <td>26-35</td>\n",
       "      <td>28</td>\n",
       "      <td>1</td>\n",
       "      <td>Gujarat</td>\n",
       "      <td>Western</td>\n",
       "      <td>Food Processing</td>\n",
       "      <td>Auto</td>\n",
       "      <td>2</td>\n",
       "      <td>23877.0</td>\n",
       "      <td>NaN</td>\n",
       "      <td>NaN</td>\n",
       "    </tr>\n",
       "    <tr>\n",
       "      <th>...</th>\n",
       "      <td>...</td>\n",
       "      <td>...</td>\n",
       "      <td>...</td>\n",
       "      <td>...</td>\n",
       "      <td>...</td>\n",
       "      <td>...</td>\n",
       "      <td>...</td>\n",
       "      <td>...</td>\n",
       "      <td>...</td>\n",
       "      <td>...</td>\n",
       "      <td>...</td>\n",
       "      <td>...</td>\n",
       "      <td>...</td>\n",
       "      <td>...</td>\n",
       "      <td>...</td>\n",
       "    </tr>\n",
       "    <tr>\n",
       "      <th>11246</th>\n",
       "      <td>1000695</td>\n",
       "      <td>Manning</td>\n",
       "      <td>P00296942</td>\n",
       "      <td>M</td>\n",
       "      <td>18-25</td>\n",
       "      <td>19</td>\n",
       "      <td>1</td>\n",
       "      <td>Maharashtra</td>\n",
       "      <td>Western</td>\n",
       "      <td>Chemical</td>\n",
       "      <td>Office</td>\n",
       "      <td>4</td>\n",
       "      <td>370.0</td>\n",
       "      <td>NaN</td>\n",
       "      <td>NaN</td>\n",
       "    </tr>\n",
       "    <tr>\n",
       "      <th>11247</th>\n",
       "      <td>1004089</td>\n",
       "      <td>Reichenbach</td>\n",
       "      <td>P00171342</td>\n",
       "      <td>M</td>\n",
       "      <td>26-35</td>\n",
       "      <td>33</td>\n",
       "      <td>0</td>\n",
       "      <td>Haryana</td>\n",
       "      <td>Northern</td>\n",
       "      <td>Healthcare</td>\n",
       "      <td>Veterinary</td>\n",
       "      <td>3</td>\n",
       "      <td>367.0</td>\n",
       "      <td>NaN</td>\n",
       "      <td>NaN</td>\n",
       "    </tr>\n",
       "    <tr>\n",
       "      <th>11248</th>\n",
       "      <td>1001209</td>\n",
       "      <td>Oshin</td>\n",
       "      <td>P00201342</td>\n",
       "      <td>F</td>\n",
       "      <td>36-45</td>\n",
       "      <td>40</td>\n",
       "      <td>0</td>\n",
       "      <td>Madhya Pradesh</td>\n",
       "      <td>Central</td>\n",
       "      <td>Textile</td>\n",
       "      <td>Office</td>\n",
       "      <td>4</td>\n",
       "      <td>213.0</td>\n",
       "      <td>NaN</td>\n",
       "      <td>NaN</td>\n",
       "    </tr>\n",
       "    <tr>\n",
       "      <th>11249</th>\n",
       "      <td>1004023</td>\n",
       "      <td>Noonan</td>\n",
       "      <td>P00059442</td>\n",
       "      <td>M</td>\n",
       "      <td>36-45</td>\n",
       "      <td>37</td>\n",
       "      <td>0</td>\n",
       "      <td>Karnataka</td>\n",
       "      <td>Southern</td>\n",
       "      <td>Agriculture</td>\n",
       "      <td>Office</td>\n",
       "      <td>3</td>\n",
       "      <td>206.0</td>\n",
       "      <td>NaN</td>\n",
       "      <td>NaN</td>\n",
       "    </tr>\n",
       "    <tr>\n",
       "      <th>11250</th>\n",
       "      <td>1002744</td>\n",
       "      <td>Brumley</td>\n",
       "      <td>P00281742</td>\n",
       "      <td>F</td>\n",
       "      <td>18-25</td>\n",
       "      <td>19</td>\n",
       "      <td>0</td>\n",
       "      <td>Maharashtra</td>\n",
       "      <td>Western</td>\n",
       "      <td>Healthcare</td>\n",
       "      <td>Office</td>\n",
       "      <td>3</td>\n",
       "      <td>188.0</td>\n",
       "      <td>NaN</td>\n",
       "      <td>NaN</td>\n",
       "    </tr>\n",
       "  </tbody>\n",
       "</table>\n",
       "<p>11251 rows × 15 columns</p>\n",
       "</div>"
      ],
      "text/plain": [
       "       User_ID    Cust_name Product_ID Gender Age Group  Age  Marital_Status  \\\n",
       "0      1002903    Sanskriti  P00125942      F     26-35   28               0   \n",
       "1      1000732       Kartik  P00110942      F     26-35   35               1   \n",
       "2      1001990        Bindu  P00118542      F     26-35   35               1   \n",
       "3      1001425       Sudevi  P00237842      M      0-17   16               0   \n",
       "4      1000588         Joni  P00057942      M     26-35   28               1   \n",
       "...        ...          ...        ...    ...       ...  ...             ...   \n",
       "11246  1000695      Manning  P00296942      M     18-25   19               1   \n",
       "11247  1004089  Reichenbach  P00171342      M     26-35   33               0   \n",
       "11248  1001209        Oshin  P00201342      F     36-45   40               0   \n",
       "11249  1004023       Noonan  P00059442      M     36-45   37               0   \n",
       "11250  1002744      Brumley  P00281742      F     18-25   19               0   \n",
       "\n",
       "                State      Zone       Occupation Product_Category  Orders  \\\n",
       "0         Maharashtra   Western       Healthcare             Auto       1   \n",
       "1      Andhra Pradesh  Southern             Govt             Auto       3   \n",
       "2       Uttar Pradesh   Central       Automobile             Auto       3   \n",
       "3           Karnataka  Southern     Construction             Auto       2   \n",
       "4             Gujarat   Western  Food Processing             Auto       2   \n",
       "...               ...       ...              ...              ...     ...   \n",
       "11246     Maharashtra   Western         Chemical           Office       4   \n",
       "11247         Haryana  Northern       Healthcare       Veterinary       3   \n",
       "11248  Madhya Pradesh   Central          Textile           Office       4   \n",
       "11249       Karnataka  Southern      Agriculture           Office       3   \n",
       "11250     Maharashtra   Western       Healthcare           Office       3   \n",
       "\n",
       "        Amount  Status  unnamed1  \n",
       "0      23952.0     NaN       NaN  \n",
       "1      23934.0     NaN       NaN  \n",
       "2      23924.0     NaN       NaN  \n",
       "3      23912.0     NaN       NaN  \n",
       "4      23877.0     NaN       NaN  \n",
       "...        ...     ...       ...  \n",
       "11246    370.0     NaN       NaN  \n",
       "11247    367.0     NaN       NaN  \n",
       "11248    213.0     NaN       NaN  \n",
       "11249    206.0     NaN       NaN  \n",
       "11250    188.0     NaN       NaN  \n",
       "\n",
       "[11251 rows x 15 columns]"
      ]
     },
     "execution_count": 3,
     "metadata": {},
     "output_type": "execute_result"
    }
   ],
   "source": [
    "df"
   ]
  },
  {
   "cell_type": "code",
   "execution_count": 4,
   "id": "b1106601",
   "metadata": {
    "execution": {
     "iopub.execute_input": "2024-05-08T06:16:46.837505Z",
     "iopub.status.busy": "2024-05-08T06:16:46.837200Z",
     "iopub.status.idle": "2024-05-08T06:16:46.843046Z",
     "shell.execute_reply": "2024-05-08T06:16:46.841843Z"
    },
    "papermill": {
     "duration": 0.020442,
     "end_time": "2024-05-08T06:16:46.844898",
     "exception": false,
     "start_time": "2024-05-08T06:16:46.824456",
     "status": "completed"
    },
    "tags": []
   },
   "outputs": [
    {
     "data": {
      "text/plain": [
       "(11251, 15)"
      ]
     },
     "execution_count": 4,
     "metadata": {},
     "output_type": "execute_result"
    }
   ],
   "source": [
    "df.shape"
   ]
  },
  {
   "cell_type": "code",
   "execution_count": 5,
   "id": "c5bad2f4",
   "metadata": {
    "execution": {
     "iopub.execute_input": "2024-05-08T06:16:46.868893Z",
     "iopub.status.busy": "2024-05-08T06:16:46.868305Z",
     "iopub.status.idle": "2024-05-08T06:16:46.884366Z",
     "shell.execute_reply": "2024-05-08T06:16:46.883459Z"
    },
    "papermill": {
     "duration": 0.030278,
     "end_time": "2024-05-08T06:16:46.885981",
     "exception": false,
     "start_time": "2024-05-08T06:16:46.855703",
     "status": "completed"
    },
    "tags": []
   },
   "outputs": [
    {
     "data": {
      "text/html": [
       "<div>\n",
       "<style scoped>\n",
       "    .dataframe tbody tr th:only-of-type {\n",
       "        vertical-align: middle;\n",
       "    }\n",
       "\n",
       "    .dataframe tbody tr th {\n",
       "        vertical-align: top;\n",
       "    }\n",
       "\n",
       "    .dataframe thead th {\n",
       "        text-align: right;\n",
       "    }\n",
       "</style>\n",
       "<table border=\"1\" class=\"dataframe\">\n",
       "  <thead>\n",
       "    <tr style=\"text-align: right;\">\n",
       "      <th></th>\n",
       "      <th>User_ID</th>\n",
       "      <th>Cust_name</th>\n",
       "      <th>Product_ID</th>\n",
       "      <th>Gender</th>\n",
       "      <th>Age Group</th>\n",
       "      <th>Age</th>\n",
       "      <th>Marital_Status</th>\n",
       "      <th>State</th>\n",
       "      <th>Zone</th>\n",
       "      <th>Occupation</th>\n",
       "      <th>Product_Category</th>\n",
       "      <th>Orders</th>\n",
       "      <th>Amount</th>\n",
       "      <th>Status</th>\n",
       "      <th>unnamed1</th>\n",
       "    </tr>\n",
       "  </thead>\n",
       "  <tbody>\n",
       "    <tr>\n",
       "      <th>0</th>\n",
       "      <td>1002903</td>\n",
       "      <td>Sanskriti</td>\n",
       "      <td>P00125942</td>\n",
       "      <td>F</td>\n",
       "      <td>26-35</td>\n",
       "      <td>28</td>\n",
       "      <td>0</td>\n",
       "      <td>Maharashtra</td>\n",
       "      <td>Western</td>\n",
       "      <td>Healthcare</td>\n",
       "      <td>Auto</td>\n",
       "      <td>1</td>\n",
       "      <td>23952.00</td>\n",
       "      <td>NaN</td>\n",
       "      <td>NaN</td>\n",
       "    </tr>\n",
       "    <tr>\n",
       "      <th>1</th>\n",
       "      <td>1000732</td>\n",
       "      <td>Kartik</td>\n",
       "      <td>P00110942</td>\n",
       "      <td>F</td>\n",
       "      <td>26-35</td>\n",
       "      <td>35</td>\n",
       "      <td>1</td>\n",
       "      <td>Andhra Pradesh</td>\n",
       "      <td>Southern</td>\n",
       "      <td>Govt</td>\n",
       "      <td>Auto</td>\n",
       "      <td>3</td>\n",
       "      <td>23934.00</td>\n",
       "      <td>NaN</td>\n",
       "      <td>NaN</td>\n",
       "    </tr>\n",
       "    <tr>\n",
       "      <th>2</th>\n",
       "      <td>1001990</td>\n",
       "      <td>Bindu</td>\n",
       "      <td>P00118542</td>\n",
       "      <td>F</td>\n",
       "      <td>26-35</td>\n",
       "      <td>35</td>\n",
       "      <td>1</td>\n",
       "      <td>Uttar Pradesh</td>\n",
       "      <td>Central</td>\n",
       "      <td>Automobile</td>\n",
       "      <td>Auto</td>\n",
       "      <td>3</td>\n",
       "      <td>23924.00</td>\n",
       "      <td>NaN</td>\n",
       "      <td>NaN</td>\n",
       "    </tr>\n",
       "    <tr>\n",
       "      <th>3</th>\n",
       "      <td>1001425</td>\n",
       "      <td>Sudevi</td>\n",
       "      <td>P00237842</td>\n",
       "      <td>M</td>\n",
       "      <td>0-17</td>\n",
       "      <td>16</td>\n",
       "      <td>0</td>\n",
       "      <td>Karnataka</td>\n",
       "      <td>Southern</td>\n",
       "      <td>Construction</td>\n",
       "      <td>Auto</td>\n",
       "      <td>2</td>\n",
       "      <td>23912.00</td>\n",
       "      <td>NaN</td>\n",
       "      <td>NaN</td>\n",
       "    </tr>\n",
       "    <tr>\n",
       "      <th>4</th>\n",
       "      <td>1000588</td>\n",
       "      <td>Joni</td>\n",
       "      <td>P00057942</td>\n",
       "      <td>M</td>\n",
       "      <td>26-35</td>\n",
       "      <td>28</td>\n",
       "      <td>1</td>\n",
       "      <td>Gujarat</td>\n",
       "      <td>Western</td>\n",
       "      <td>Food Processing</td>\n",
       "      <td>Auto</td>\n",
       "      <td>2</td>\n",
       "      <td>23877.00</td>\n",
       "      <td>NaN</td>\n",
       "      <td>NaN</td>\n",
       "    </tr>\n",
       "    <tr>\n",
       "      <th>5</th>\n",
       "      <td>1000588</td>\n",
       "      <td>Joni</td>\n",
       "      <td>P00057942</td>\n",
       "      <td>M</td>\n",
       "      <td>26-35</td>\n",
       "      <td>28</td>\n",
       "      <td>1</td>\n",
       "      <td>Himachal Pradesh</td>\n",
       "      <td>Northern</td>\n",
       "      <td>Food Processing</td>\n",
       "      <td>Auto</td>\n",
       "      <td>1</td>\n",
       "      <td>23877.00</td>\n",
       "      <td>NaN</td>\n",
       "      <td>NaN</td>\n",
       "    </tr>\n",
       "    <tr>\n",
       "      <th>6</th>\n",
       "      <td>1001132</td>\n",
       "      <td>Balk</td>\n",
       "      <td>P00018042</td>\n",
       "      <td>F</td>\n",
       "      <td>18-25</td>\n",
       "      <td>25</td>\n",
       "      <td>1</td>\n",
       "      <td>Uttar Pradesh</td>\n",
       "      <td>Central</td>\n",
       "      <td>Lawyer</td>\n",
       "      <td>Auto</td>\n",
       "      <td>4</td>\n",
       "      <td>23841.00</td>\n",
       "      <td>NaN</td>\n",
       "      <td>NaN</td>\n",
       "    </tr>\n",
       "    <tr>\n",
       "      <th>7</th>\n",
       "      <td>1002092</td>\n",
       "      <td>Shivangi</td>\n",
       "      <td>P00273442</td>\n",
       "      <td>F</td>\n",
       "      <td>55+</td>\n",
       "      <td>61</td>\n",
       "      <td>0</td>\n",
       "      <td>Maharashtra</td>\n",
       "      <td>Western</td>\n",
       "      <td>IT Sector</td>\n",
       "      <td>Auto</td>\n",
       "      <td>1</td>\n",
       "      <td>NaN</td>\n",
       "      <td>NaN</td>\n",
       "      <td>NaN</td>\n",
       "    </tr>\n",
       "    <tr>\n",
       "      <th>8</th>\n",
       "      <td>1003224</td>\n",
       "      <td>Kushal</td>\n",
       "      <td>P00205642</td>\n",
       "      <td>M</td>\n",
       "      <td>26-35</td>\n",
       "      <td>35</td>\n",
       "      <td>0</td>\n",
       "      <td>Uttar Pradesh</td>\n",
       "      <td>Central</td>\n",
       "      <td>Govt</td>\n",
       "      <td>Auto</td>\n",
       "      <td>2</td>\n",
       "      <td>23809.00</td>\n",
       "      <td>NaN</td>\n",
       "      <td>NaN</td>\n",
       "    </tr>\n",
       "    <tr>\n",
       "      <th>9</th>\n",
       "      <td>1003650</td>\n",
       "      <td>Ginny</td>\n",
       "      <td>P00031142</td>\n",
       "      <td>F</td>\n",
       "      <td>26-35</td>\n",
       "      <td>26</td>\n",
       "      <td>1</td>\n",
       "      <td>Andhra Pradesh</td>\n",
       "      <td>Southern</td>\n",
       "      <td>Media</td>\n",
       "      <td>Auto</td>\n",
       "      <td>4</td>\n",
       "      <td>23799.99</td>\n",
       "      <td>NaN</td>\n",
       "      <td>NaN</td>\n",
       "    </tr>\n",
       "  </tbody>\n",
       "</table>\n",
       "</div>"
      ],
      "text/plain": [
       "   User_ID  Cust_name Product_ID Gender Age Group  Age  Marital_Status  \\\n",
       "0  1002903  Sanskriti  P00125942      F     26-35   28               0   \n",
       "1  1000732     Kartik  P00110942      F     26-35   35               1   \n",
       "2  1001990      Bindu  P00118542      F     26-35   35               1   \n",
       "3  1001425     Sudevi  P00237842      M      0-17   16               0   \n",
       "4  1000588       Joni  P00057942      M     26-35   28               1   \n",
       "5  1000588       Joni  P00057942      M     26-35   28               1   \n",
       "6  1001132       Balk  P00018042      F     18-25   25               1   \n",
       "7  1002092   Shivangi  P00273442      F       55+   61               0   \n",
       "8  1003224     Kushal  P00205642      M     26-35   35               0   \n",
       "9  1003650      Ginny  P00031142      F     26-35   26               1   \n",
       "\n",
       "              State      Zone       Occupation Product_Category  Orders  \\\n",
       "0       Maharashtra   Western       Healthcare             Auto       1   \n",
       "1    Andhra Pradesh  Southern             Govt             Auto       3   \n",
       "2     Uttar Pradesh   Central       Automobile             Auto       3   \n",
       "3         Karnataka  Southern     Construction             Auto       2   \n",
       "4           Gujarat   Western  Food Processing             Auto       2   \n",
       "5  Himachal Pradesh  Northern  Food Processing             Auto       1   \n",
       "6     Uttar Pradesh   Central           Lawyer             Auto       4   \n",
       "7       Maharashtra   Western        IT Sector             Auto       1   \n",
       "8     Uttar Pradesh   Central             Govt             Auto       2   \n",
       "9    Andhra Pradesh  Southern            Media             Auto       4   \n",
       "\n",
       "     Amount  Status  unnamed1  \n",
       "0  23952.00     NaN       NaN  \n",
       "1  23934.00     NaN       NaN  \n",
       "2  23924.00     NaN       NaN  \n",
       "3  23912.00     NaN       NaN  \n",
       "4  23877.00     NaN       NaN  \n",
       "5  23877.00     NaN       NaN  \n",
       "6  23841.00     NaN       NaN  \n",
       "7       NaN     NaN       NaN  \n",
       "8  23809.00     NaN       NaN  \n",
       "9  23799.99     NaN       NaN  "
      ]
     },
     "execution_count": 5,
     "metadata": {},
     "output_type": "execute_result"
    }
   ],
   "source": [
    "df.head(10)"
   ]
  },
  {
   "cell_type": "code",
   "execution_count": 6,
   "id": "910f2619",
   "metadata": {
    "execution": {
     "iopub.execute_input": "2024-05-08T06:16:46.908617Z",
     "iopub.status.busy": "2024-05-08T06:16:46.908270Z",
     "iopub.status.idle": "2024-05-08T06:16:46.924629Z",
     "shell.execute_reply": "2024-05-08T06:16:46.923584Z"
    },
    "papermill": {
     "duration": 0.029987,
     "end_time": "2024-05-08T06:16:46.926343",
     "exception": false,
     "start_time": "2024-05-08T06:16:46.896356",
     "status": "completed"
    },
    "tags": []
   },
   "outputs": [
    {
     "data": {
      "text/html": [
       "<div>\n",
       "<style scoped>\n",
       "    .dataframe tbody tr th:only-of-type {\n",
       "        vertical-align: middle;\n",
       "    }\n",
       "\n",
       "    .dataframe tbody tr th {\n",
       "        vertical-align: top;\n",
       "    }\n",
       "\n",
       "    .dataframe thead th {\n",
       "        text-align: right;\n",
       "    }\n",
       "</style>\n",
       "<table border=\"1\" class=\"dataframe\">\n",
       "  <thead>\n",
       "    <tr style=\"text-align: right;\">\n",
       "      <th></th>\n",
       "      <th>User_ID</th>\n",
       "      <th>Cust_name</th>\n",
       "      <th>Product_ID</th>\n",
       "      <th>Gender</th>\n",
       "      <th>Age Group</th>\n",
       "      <th>Age</th>\n",
       "      <th>Marital_Status</th>\n",
       "      <th>State</th>\n",
       "      <th>Zone</th>\n",
       "      <th>Occupation</th>\n",
       "      <th>Product_Category</th>\n",
       "      <th>Orders</th>\n",
       "      <th>Amount</th>\n",
       "      <th>Status</th>\n",
       "      <th>unnamed1</th>\n",
       "    </tr>\n",
       "  </thead>\n",
       "  <tbody>\n",
       "    <tr>\n",
       "      <th>11241</th>\n",
       "      <td>1003032</td>\n",
       "      <td>Matthias</td>\n",
       "      <td>P00058042</td>\n",
       "      <td>F</td>\n",
       "      <td>26-35</td>\n",
       "      <td>33</td>\n",
       "      <td>0</td>\n",
       "      <td>Delhi</td>\n",
       "      <td>Central</td>\n",
       "      <td>Hospitality</td>\n",
       "      <td>Office</td>\n",
       "      <td>3</td>\n",
       "      <td>384.0</td>\n",
       "      <td>NaN</td>\n",
       "      <td>NaN</td>\n",
       "    </tr>\n",
       "    <tr>\n",
       "      <th>11242</th>\n",
       "      <td>1004344</td>\n",
       "      <td>Hildebrand</td>\n",
       "      <td>P00185442</td>\n",
       "      <td>F</td>\n",
       "      <td>26-35</td>\n",
       "      <td>27</td>\n",
       "      <td>1</td>\n",
       "      <td>Delhi</td>\n",
       "      <td>Central</td>\n",
       "      <td>Healthcare</td>\n",
       "      <td>Office</td>\n",
       "      <td>2</td>\n",
       "      <td>382.0</td>\n",
       "      <td>NaN</td>\n",
       "      <td>NaN</td>\n",
       "    </tr>\n",
       "    <tr>\n",
       "      <th>11243</th>\n",
       "      <td>1005446</td>\n",
       "      <td>Sheetal</td>\n",
       "      <td>P00297742</td>\n",
       "      <td>M</td>\n",
       "      <td>51-55</td>\n",
       "      <td>53</td>\n",
       "      <td>0</td>\n",
       "      <td>Gujarat</td>\n",
       "      <td>Western</td>\n",
       "      <td>Healthcare</td>\n",
       "      <td>Office</td>\n",
       "      <td>1</td>\n",
       "      <td>382.0</td>\n",
       "      <td>NaN</td>\n",
       "      <td>NaN</td>\n",
       "    </tr>\n",
       "    <tr>\n",
       "      <th>11244</th>\n",
       "      <td>1005446</td>\n",
       "      <td>Sheetal</td>\n",
       "      <td>P00297742</td>\n",
       "      <td>M</td>\n",
       "      <td>51-55</td>\n",
       "      <td>53</td>\n",
       "      <td>0</td>\n",
       "      <td>Madhya Pradesh</td>\n",
       "      <td>Central</td>\n",
       "      <td>Healthcare</td>\n",
       "      <td>Office</td>\n",
       "      <td>2</td>\n",
       "      <td>382.0</td>\n",
       "      <td>NaN</td>\n",
       "      <td>NaN</td>\n",
       "    </tr>\n",
       "    <tr>\n",
       "      <th>11245</th>\n",
       "      <td>1004140</td>\n",
       "      <td>Bertelson</td>\n",
       "      <td>P00057442</td>\n",
       "      <td>F</td>\n",
       "      <td>26-35</td>\n",
       "      <td>31</td>\n",
       "      <td>1</td>\n",
       "      <td>Delhi</td>\n",
       "      <td>Central</td>\n",
       "      <td>Aviation</td>\n",
       "      <td>Office</td>\n",
       "      <td>2</td>\n",
       "      <td>381.0</td>\n",
       "      <td>NaN</td>\n",
       "      <td>NaN</td>\n",
       "    </tr>\n",
       "    <tr>\n",
       "      <th>11246</th>\n",
       "      <td>1000695</td>\n",
       "      <td>Manning</td>\n",
       "      <td>P00296942</td>\n",
       "      <td>M</td>\n",
       "      <td>18-25</td>\n",
       "      <td>19</td>\n",
       "      <td>1</td>\n",
       "      <td>Maharashtra</td>\n",
       "      <td>Western</td>\n",
       "      <td>Chemical</td>\n",
       "      <td>Office</td>\n",
       "      <td>4</td>\n",
       "      <td>370.0</td>\n",
       "      <td>NaN</td>\n",
       "      <td>NaN</td>\n",
       "    </tr>\n",
       "    <tr>\n",
       "      <th>11247</th>\n",
       "      <td>1004089</td>\n",
       "      <td>Reichenbach</td>\n",
       "      <td>P00171342</td>\n",
       "      <td>M</td>\n",
       "      <td>26-35</td>\n",
       "      <td>33</td>\n",
       "      <td>0</td>\n",
       "      <td>Haryana</td>\n",
       "      <td>Northern</td>\n",
       "      <td>Healthcare</td>\n",
       "      <td>Veterinary</td>\n",
       "      <td>3</td>\n",
       "      <td>367.0</td>\n",
       "      <td>NaN</td>\n",
       "      <td>NaN</td>\n",
       "    </tr>\n",
       "    <tr>\n",
       "      <th>11248</th>\n",
       "      <td>1001209</td>\n",
       "      <td>Oshin</td>\n",
       "      <td>P00201342</td>\n",
       "      <td>F</td>\n",
       "      <td>36-45</td>\n",
       "      <td>40</td>\n",
       "      <td>0</td>\n",
       "      <td>Madhya Pradesh</td>\n",
       "      <td>Central</td>\n",
       "      <td>Textile</td>\n",
       "      <td>Office</td>\n",
       "      <td>4</td>\n",
       "      <td>213.0</td>\n",
       "      <td>NaN</td>\n",
       "      <td>NaN</td>\n",
       "    </tr>\n",
       "    <tr>\n",
       "      <th>11249</th>\n",
       "      <td>1004023</td>\n",
       "      <td>Noonan</td>\n",
       "      <td>P00059442</td>\n",
       "      <td>M</td>\n",
       "      <td>36-45</td>\n",
       "      <td>37</td>\n",
       "      <td>0</td>\n",
       "      <td>Karnataka</td>\n",
       "      <td>Southern</td>\n",
       "      <td>Agriculture</td>\n",
       "      <td>Office</td>\n",
       "      <td>3</td>\n",
       "      <td>206.0</td>\n",
       "      <td>NaN</td>\n",
       "      <td>NaN</td>\n",
       "    </tr>\n",
       "    <tr>\n",
       "      <th>11250</th>\n",
       "      <td>1002744</td>\n",
       "      <td>Brumley</td>\n",
       "      <td>P00281742</td>\n",
       "      <td>F</td>\n",
       "      <td>18-25</td>\n",
       "      <td>19</td>\n",
       "      <td>0</td>\n",
       "      <td>Maharashtra</td>\n",
       "      <td>Western</td>\n",
       "      <td>Healthcare</td>\n",
       "      <td>Office</td>\n",
       "      <td>3</td>\n",
       "      <td>188.0</td>\n",
       "      <td>NaN</td>\n",
       "      <td>NaN</td>\n",
       "    </tr>\n",
       "  </tbody>\n",
       "</table>\n",
       "</div>"
      ],
      "text/plain": [
       "       User_ID    Cust_name Product_ID Gender Age Group  Age  Marital_Status  \\\n",
       "11241  1003032     Matthias  P00058042      F     26-35   33               0   \n",
       "11242  1004344   Hildebrand  P00185442      F     26-35   27               1   \n",
       "11243  1005446      Sheetal  P00297742      M     51-55   53               0   \n",
       "11244  1005446      Sheetal  P00297742      M     51-55   53               0   \n",
       "11245  1004140    Bertelson  P00057442      F     26-35   31               1   \n",
       "11246  1000695      Manning  P00296942      M     18-25   19               1   \n",
       "11247  1004089  Reichenbach  P00171342      M     26-35   33               0   \n",
       "11248  1001209        Oshin  P00201342      F     36-45   40               0   \n",
       "11249  1004023       Noonan  P00059442      M     36-45   37               0   \n",
       "11250  1002744      Brumley  P00281742      F     18-25   19               0   \n",
       "\n",
       "                State      Zone   Occupation Product_Category  Orders  Amount  \\\n",
       "11241           Delhi   Central  Hospitality           Office       3   384.0   \n",
       "11242           Delhi   Central   Healthcare           Office       2   382.0   \n",
       "11243         Gujarat   Western   Healthcare           Office       1   382.0   \n",
       "11244  Madhya Pradesh   Central   Healthcare           Office       2   382.0   \n",
       "11245           Delhi   Central     Aviation           Office       2   381.0   \n",
       "11246     Maharashtra   Western     Chemical           Office       4   370.0   \n",
       "11247         Haryana  Northern   Healthcare       Veterinary       3   367.0   \n",
       "11248  Madhya Pradesh   Central      Textile           Office       4   213.0   \n",
       "11249       Karnataka  Southern  Agriculture           Office       3   206.0   \n",
       "11250     Maharashtra   Western   Healthcare           Office       3   188.0   \n",
       "\n",
       "       Status  unnamed1  \n",
       "11241     NaN       NaN  \n",
       "11242     NaN       NaN  \n",
       "11243     NaN       NaN  \n",
       "11244     NaN       NaN  \n",
       "11245     NaN       NaN  \n",
       "11246     NaN       NaN  \n",
       "11247     NaN       NaN  \n",
       "11248     NaN       NaN  \n",
       "11249     NaN       NaN  \n",
       "11250     NaN       NaN  "
      ]
     },
     "execution_count": 6,
     "metadata": {},
     "output_type": "execute_result"
    }
   ],
   "source": [
    "df.tail(10)"
   ]
  },
  {
   "cell_type": "code",
   "execution_count": 7,
   "id": "ed20c4bd",
   "metadata": {
    "execution": {
     "iopub.execute_input": "2024-05-08T06:16:46.949941Z",
     "iopub.status.busy": "2024-05-08T06:16:46.948793Z",
     "iopub.status.idle": "2024-05-08T06:16:46.982436Z",
     "shell.execute_reply": "2024-05-08T06:16:46.980384Z"
    },
    "papermill": {
     "duration": 0.048543,
     "end_time": "2024-05-08T06:16:46.985574",
     "exception": false,
     "start_time": "2024-05-08T06:16:46.937031",
     "status": "completed"
    },
    "tags": []
   },
   "outputs": [
    {
     "name": "stdout",
     "output_type": "stream",
     "text": [
      "<class 'pandas.core.frame.DataFrame'>\n",
      "RangeIndex: 11251 entries, 0 to 11250\n",
      "Data columns (total 15 columns):\n",
      " #   Column            Non-Null Count  Dtype  \n",
      "---  ------            --------------  -----  \n",
      " 0   User_ID           11251 non-null  int64  \n",
      " 1   Cust_name         11251 non-null  object \n",
      " 2   Product_ID        11251 non-null  object \n",
      " 3   Gender            11251 non-null  object \n",
      " 4   Age Group         11251 non-null  object \n",
      " 5   Age               11251 non-null  int64  \n",
      " 6   Marital_Status    11251 non-null  int64  \n",
      " 7   State             11251 non-null  object \n",
      " 8   Zone              11251 non-null  object \n",
      " 9   Occupation        11251 non-null  object \n",
      " 10  Product_Category  11251 non-null  object \n",
      " 11  Orders            11251 non-null  int64  \n",
      " 12  Amount            11239 non-null  float64\n",
      " 13  Status            0 non-null      float64\n",
      " 14  unnamed1          0 non-null      float64\n",
      "dtypes: float64(3), int64(4), object(8)\n",
      "memory usage: 1.3+ MB\n"
     ]
    }
   ],
   "source": [
    "df.info()"
   ]
  },
  {
   "cell_type": "code",
   "execution_count": 8,
   "id": "92a9760c",
   "metadata": {
    "execution": {
     "iopub.execute_input": "2024-05-08T06:16:47.009467Z",
     "iopub.status.busy": "2024-05-08T06:16:47.009126Z",
     "iopub.status.idle": "2024-05-08T06:16:47.017213Z",
     "shell.execute_reply": "2024-05-08T06:16:47.016077Z"
    },
    "papermill": {
     "duration": 0.022974,
     "end_time": "2024-05-08T06:16:47.019701",
     "exception": false,
     "start_time": "2024-05-08T06:16:46.996727",
     "status": "completed"
    },
    "tags": []
   },
   "outputs": [],
   "source": [
    "df.drop(['Status','unnamed1'], axis = 1, inplace = True)"
   ]
  },
  {
   "cell_type": "code",
   "execution_count": 9,
   "id": "d751ccae",
   "metadata": {
    "execution": {
     "iopub.execute_input": "2024-05-08T06:16:47.046819Z",
     "iopub.status.busy": "2024-05-08T06:16:47.046427Z",
     "iopub.status.idle": "2024-05-08T06:16:47.058774Z",
     "shell.execute_reply": "2024-05-08T06:16:47.056908Z"
    },
    "papermill": {
     "duration": 0.029123,
     "end_time": "2024-05-08T06:16:47.061420",
     "exception": false,
     "start_time": "2024-05-08T06:16:47.032297",
     "status": "completed"
    },
    "tags": []
   },
   "outputs": [
    {
     "data": {
      "text/plain": [
       "User_ID              0\n",
       "Cust_name            0\n",
       "Product_ID           0\n",
       "Gender               0\n",
       "Age Group            0\n",
       "Age                  0\n",
       "Marital_Status       0\n",
       "State                0\n",
       "Zone                 0\n",
       "Occupation           0\n",
       "Product_Category     0\n",
       "Orders               0\n",
       "Amount              12\n",
       "dtype: int64"
      ]
     },
     "execution_count": 9,
     "metadata": {},
     "output_type": "execute_result"
    }
   ],
   "source": [
    "pd.isnull(df).sum()"
   ]
  },
  {
   "cell_type": "code",
   "execution_count": 10,
   "id": "a436ddaf",
   "metadata": {
    "execution": {
     "iopub.execute_input": "2024-05-08T06:16:47.086001Z",
     "iopub.status.busy": "2024-05-08T06:16:47.085650Z",
     "iopub.status.idle": "2024-05-08T06:16:47.097479Z",
     "shell.execute_reply": "2024-05-08T06:16:47.095746Z"
    },
    "papermill": {
     "duration": 0.027409,
     "end_time": "2024-05-08T06:16:47.100333",
     "exception": false,
     "start_time": "2024-05-08T06:16:47.072924",
     "status": "completed"
    },
    "tags": []
   },
   "outputs": [],
   "source": [
    "df = df.dropna()"
   ]
  },
  {
   "cell_type": "code",
   "execution_count": 11,
   "id": "ffeb5845",
   "metadata": {
    "execution": {
     "iopub.execute_input": "2024-05-08T06:16:47.125650Z",
     "iopub.status.busy": "2024-05-08T06:16:47.125269Z",
     "iopub.status.idle": "2024-05-08T06:16:47.138028Z",
     "shell.execute_reply": "2024-05-08T06:16:47.136720Z"
    },
    "papermill": {
     "duration": 0.028449,
     "end_time": "2024-05-08T06:16:47.140693",
     "exception": false,
     "start_time": "2024-05-08T06:16:47.112244",
     "status": "completed"
    },
    "tags": []
   },
   "outputs": [
    {
     "data": {
      "text/plain": [
       "0"
      ]
     },
     "execution_count": 11,
     "metadata": {},
     "output_type": "execute_result"
    }
   ],
   "source": [
    "df.isnull().sum().sum()"
   ]
  },
  {
   "cell_type": "code",
   "execution_count": 12,
   "id": "65fc0c7b",
   "metadata": {
    "execution": {
     "iopub.execute_input": "2024-05-08T06:16:47.168652Z",
     "iopub.status.busy": "2024-05-08T06:16:47.167911Z",
     "iopub.status.idle": "2024-05-08T06:16:47.175668Z",
     "shell.execute_reply": "2024-05-08T06:16:47.174275Z"
    },
    "papermill": {
     "duration": 0.02569,
     "end_time": "2024-05-08T06:16:47.178997",
     "exception": false,
     "start_time": "2024-05-08T06:16:47.153307",
     "status": "completed"
    },
    "tags": []
   },
   "outputs": [
    {
     "data": {
      "text/plain": [
       "(11239, 13)"
      ]
     },
     "execution_count": 12,
     "metadata": {},
     "output_type": "execute_result"
    }
   ],
   "source": [
    "df.shape"
   ]
  },
  {
   "cell_type": "code",
   "execution_count": 13,
   "id": "c703983a",
   "metadata": {
    "execution": {
     "iopub.execute_input": "2024-05-08T06:16:47.203447Z",
     "iopub.status.busy": "2024-05-08T06:16:47.203100Z",
     "iopub.status.idle": "2024-05-08T06:16:47.209679Z",
     "shell.execute_reply": "2024-05-08T06:16:47.208268Z"
    },
    "papermill": {
     "duration": 0.021769,
     "end_time": "2024-05-08T06:16:47.212643",
     "exception": false,
     "start_time": "2024-05-08T06:16:47.190874",
     "status": "completed"
    },
    "tags": []
   },
   "outputs": [],
   "source": [
    "df['Amount'] = df['Amount'].astype('int')"
   ]
  },
  {
   "cell_type": "code",
   "execution_count": 14,
   "id": "8c61244b",
   "metadata": {
    "execution": {
     "iopub.execute_input": "2024-05-08T06:16:47.237010Z",
     "iopub.status.busy": "2024-05-08T06:16:47.236653Z",
     "iopub.status.idle": "2024-05-08T06:16:47.243885Z",
     "shell.execute_reply": "2024-05-08T06:16:47.242934Z"
    },
    "papermill": {
     "duration": 0.021865,
     "end_time": "2024-05-08T06:16:47.245956",
     "exception": false,
     "start_time": "2024-05-08T06:16:47.224091",
     "status": "completed"
    },
    "tags": []
   },
   "outputs": [
    {
     "data": {
      "text/plain": [
       "dtype('int32')"
      ]
     },
     "execution_count": 14,
     "metadata": {},
     "output_type": "execute_result"
    }
   ],
   "source": [
    "df['Amount'].dtype"
   ]
  },
  {
   "cell_type": "code",
   "execution_count": 15,
   "id": "4cbe6412",
   "metadata": {
    "execution": {
     "iopub.execute_input": "2024-05-08T06:16:47.270391Z",
     "iopub.status.busy": "2024-05-08T06:16:47.270000Z",
     "iopub.status.idle": "2024-05-08T06:16:47.292006Z",
     "shell.execute_reply": "2024-05-08T06:16:47.290296Z"
    },
    "papermill": {
     "duration": 0.036597,
     "end_time": "2024-05-08T06:16:47.294172",
     "exception": false,
     "start_time": "2024-05-08T06:16:47.257575",
     "status": "completed"
    },
    "tags": []
   },
   "outputs": [
    {
     "data": {
      "text/plain": [
       "False    11231\n",
       "True         8\n",
       "Name: count, dtype: int64"
      ]
     },
     "execution_count": 15,
     "metadata": {},
     "output_type": "execute_result"
    }
   ],
   "source": [
    "df.duplicated().value_counts()"
   ]
  },
  {
   "cell_type": "code",
   "execution_count": 16,
   "id": "4ffbba2c",
   "metadata": {
    "execution": {
     "iopub.execute_input": "2024-05-08T06:16:47.320018Z",
     "iopub.status.busy": "2024-05-08T06:16:47.319647Z",
     "iopub.status.idle": "2024-05-08T06:16:47.337930Z",
     "shell.execute_reply": "2024-05-08T06:16:47.335901Z"
    },
    "papermill": {
     "duration": 0.035018,
     "end_time": "2024-05-08T06:16:47.340712",
     "exception": false,
     "start_time": "2024-05-08T06:16:47.305694",
     "status": "completed"
    },
    "tags": []
   },
   "outputs": [],
   "source": [
    "df.drop_duplicates(inplace = True)"
   ]
  },
  {
   "cell_type": "code",
   "execution_count": 17,
   "id": "c57bd9cd",
   "metadata": {
    "execution": {
     "iopub.execute_input": "2024-05-08T06:16:47.366127Z",
     "iopub.status.busy": "2024-05-08T06:16:47.365777Z",
     "iopub.status.idle": "2024-05-08T06:16:47.384821Z",
     "shell.execute_reply": "2024-05-08T06:16:47.383318Z"
    },
    "papermill": {
     "duration": 0.034749,
     "end_time": "2024-05-08T06:16:47.387346",
     "exception": false,
     "start_time": "2024-05-08T06:16:47.352597",
     "status": "completed"
    },
    "tags": []
   },
   "outputs": [
    {
     "data": {
      "text/plain": [
       "False    11231\n",
       "Name: count, dtype: int64"
      ]
     },
     "execution_count": 17,
     "metadata": {},
     "output_type": "execute_result"
    }
   ],
   "source": [
    "df.duplicated().value_counts()"
   ]
  },
  {
   "cell_type": "code",
   "execution_count": 18,
   "id": "e5c05abc",
   "metadata": {
    "execution": {
     "iopub.execute_input": "2024-05-08T06:16:47.411858Z",
     "iopub.status.busy": "2024-05-08T06:16:47.411476Z",
     "iopub.status.idle": "2024-05-08T06:16:47.437400Z",
     "shell.execute_reply": "2024-05-08T06:16:47.436274Z"
    },
    "papermill": {
     "duration": 0.041327,
     "end_time": "2024-05-08T06:16:47.440063",
     "exception": false,
     "start_time": "2024-05-08T06:16:47.398736",
     "status": "completed"
    },
    "tags": []
   },
   "outputs": [
    {
     "data": {
      "text/html": [
       "<div>\n",
       "<style scoped>\n",
       "    .dataframe tbody tr th:only-of-type {\n",
       "        vertical-align: middle;\n",
       "    }\n",
       "\n",
       "    .dataframe tbody tr th {\n",
       "        vertical-align: top;\n",
       "    }\n",
       "\n",
       "    .dataframe thead th {\n",
       "        text-align: right;\n",
       "    }\n",
       "</style>\n",
       "<table border=\"1\" class=\"dataframe\">\n",
       "  <thead>\n",
       "    <tr style=\"text-align: right;\">\n",
       "      <th></th>\n",
       "      <th>Age</th>\n",
       "      <th>Marital_Status</th>\n",
       "      <th>Orders</th>\n",
       "      <th>Amount</th>\n",
       "    </tr>\n",
       "  </thead>\n",
       "  <tbody>\n",
       "    <tr>\n",
       "      <th>count</th>\n",
       "      <td>11231.000000</td>\n",
       "      <td>11231.000000</td>\n",
       "      <td>11231.000000</td>\n",
       "      <td>11231.000000</td>\n",
       "    </tr>\n",
       "    <tr>\n",
       "      <th>mean</th>\n",
       "      <td>35.411985</td>\n",
       "      <td>0.419998</td>\n",
       "      <td>2.489093</td>\n",
       "      <td>9454.084676</td>\n",
       "    </tr>\n",
       "    <tr>\n",
       "      <th>std</th>\n",
       "      <td>12.756116</td>\n",
       "      <td>0.493580</td>\n",
       "      <td>1.114880</td>\n",
       "      <td>5221.728074</td>\n",
       "    </tr>\n",
       "    <tr>\n",
       "      <th>min</th>\n",
       "      <td>12.000000</td>\n",
       "      <td>0.000000</td>\n",
       "      <td>1.000000</td>\n",
       "      <td>188.000000</td>\n",
       "    </tr>\n",
       "    <tr>\n",
       "      <th>25%</th>\n",
       "      <td>27.000000</td>\n",
       "      <td>0.000000</td>\n",
       "      <td>2.000000</td>\n",
       "      <td>5443.000000</td>\n",
       "    </tr>\n",
       "    <tr>\n",
       "      <th>50%</th>\n",
       "      <td>33.000000</td>\n",
       "      <td>0.000000</td>\n",
       "      <td>2.000000</td>\n",
       "      <td>8109.000000</td>\n",
       "    </tr>\n",
       "    <tr>\n",
       "      <th>75%</th>\n",
       "      <td>43.000000</td>\n",
       "      <td>1.000000</td>\n",
       "      <td>3.000000</td>\n",
       "      <td>12677.500000</td>\n",
       "    </tr>\n",
       "    <tr>\n",
       "      <th>max</th>\n",
       "      <td>92.000000</td>\n",
       "      <td>1.000000</td>\n",
       "      <td>4.000000</td>\n",
       "      <td>23952.000000</td>\n",
       "    </tr>\n",
       "  </tbody>\n",
       "</table>\n",
       "</div>"
      ],
      "text/plain": [
       "                Age  Marital_Status        Orders        Amount\n",
       "count  11231.000000    11231.000000  11231.000000  11231.000000\n",
       "mean      35.411985        0.419998      2.489093   9454.084676\n",
       "std       12.756116        0.493580      1.114880   5221.728074\n",
       "min       12.000000        0.000000      1.000000    188.000000\n",
       "25%       27.000000        0.000000      2.000000   5443.000000\n",
       "50%       33.000000        0.000000      2.000000   8109.000000\n",
       "75%       43.000000        1.000000      3.000000  12677.500000\n",
       "max       92.000000        1.000000      4.000000  23952.000000"
      ]
     },
     "execution_count": 18,
     "metadata": {},
     "output_type": "execute_result"
    }
   ],
   "source": [
    "df[['Age','Marital_Status','Orders','Amount']].describe()"
   ]
  },
  {
   "cell_type": "code",
   "execution_count": 19,
   "id": "350a6605",
   "metadata": {
    "execution": {
     "iopub.execute_input": "2024-05-08T06:16:47.466113Z",
     "iopub.status.busy": "2024-05-08T06:16:47.465786Z",
     "iopub.status.idle": "2024-05-08T06:16:47.499125Z",
     "shell.execute_reply": "2024-05-08T06:16:47.497895Z"
    },
    "papermill": {
     "duration": 0.049012,
     "end_time": "2024-05-08T06:16:47.501312",
     "exception": false,
     "start_time": "2024-05-08T06:16:47.452300",
     "status": "completed"
    },
    "tags": []
   },
   "outputs": [
    {
     "data": {
      "text/html": [
       "<div>\n",
       "<style scoped>\n",
       "    .dataframe tbody tr th:only-of-type {\n",
       "        vertical-align: middle;\n",
       "    }\n",
       "\n",
       "    .dataframe tbody tr th {\n",
       "        vertical-align: top;\n",
       "    }\n",
       "\n",
       "    .dataframe thead th {\n",
       "        text-align: right;\n",
       "    }\n",
       "</style>\n",
       "<table border=\"1\" class=\"dataframe\">\n",
       "  <thead>\n",
       "    <tr style=\"text-align: right;\">\n",
       "      <th></th>\n",
       "      <th>Cust_name</th>\n",
       "      <th>Product_ID</th>\n",
       "      <th>Gender</th>\n",
       "      <th>Age Group</th>\n",
       "      <th>State</th>\n",
       "      <th>Zone</th>\n",
       "      <th>Occupation</th>\n",
       "      <th>Product_Category</th>\n",
       "    </tr>\n",
       "  </thead>\n",
       "  <tbody>\n",
       "    <tr>\n",
       "      <th>count</th>\n",
       "      <td>11231</td>\n",
       "      <td>11231</td>\n",
       "      <td>11231</td>\n",
       "      <td>11231</td>\n",
       "      <td>11231</td>\n",
       "      <td>11231</td>\n",
       "      <td>11231</td>\n",
       "      <td>11231</td>\n",
       "    </tr>\n",
       "    <tr>\n",
       "      <th>unique</th>\n",
       "      <td>1250</td>\n",
       "      <td>2350</td>\n",
       "      <td>2</td>\n",
       "      <td>7</td>\n",
       "      <td>16</td>\n",
       "      <td>5</td>\n",
       "      <td>15</td>\n",
       "      <td>18</td>\n",
       "    </tr>\n",
       "    <tr>\n",
       "      <th>top</th>\n",
       "      <td>Vishakha</td>\n",
       "      <td>P00265242</td>\n",
       "      <td>F</td>\n",
       "      <td>26-35</td>\n",
       "      <td>Uttar Pradesh</td>\n",
       "      <td>Central</td>\n",
       "      <td>IT Sector</td>\n",
       "      <td>Clothing &amp; Apparel</td>\n",
       "    </tr>\n",
       "    <tr>\n",
       "      <th>freq</th>\n",
       "      <td>42</td>\n",
       "      <td>53</td>\n",
       "      <td>7828</td>\n",
       "      <td>4536</td>\n",
       "      <td>1942</td>\n",
       "      <td>4287</td>\n",
       "      <td>1581</td>\n",
       "      <td>2653</td>\n",
       "    </tr>\n",
       "  </tbody>\n",
       "</table>\n",
       "</div>"
      ],
      "text/plain": [
       "       Cust_name Product_ID Gender Age Group          State     Zone  \\\n",
       "count      11231      11231  11231     11231          11231    11231   \n",
       "unique      1250       2350      2         7             16        5   \n",
       "top     Vishakha  P00265242      F     26-35  Uttar Pradesh  Central   \n",
       "freq          42         53   7828      4536           1942     4287   \n",
       "\n",
       "       Occupation    Product_Category  \n",
       "count       11231               11231  \n",
       "unique         15                  18  \n",
       "top     IT Sector  Clothing & Apparel  \n",
       "freq         1581                2653  "
      ]
     },
     "execution_count": 19,
     "metadata": {},
     "output_type": "execute_result"
    }
   ],
   "source": [
    "k = df.describe(include = \"object\")\n",
    "k"
   ]
  },
  {
   "cell_type": "code",
   "execution_count": 20,
   "id": "6a8a685f",
   "metadata": {
    "execution": {
     "iopub.execute_input": "2024-05-08T06:16:47.527695Z",
     "iopub.status.busy": "2024-05-08T06:16:47.527337Z",
     "iopub.status.idle": "2024-05-08T06:16:47.539415Z",
     "shell.execute_reply": "2024-05-08T06:16:47.538499Z"
    },
    "papermill": {
     "duration": 0.027947,
     "end_time": "2024-05-08T06:16:47.541608",
     "exception": false,
     "start_time": "2024-05-08T06:16:47.513661",
     "status": "completed"
    },
    "tags": []
   },
   "outputs": [
    {
     "name": "stdout",
     "output_type": "stream",
     "text": [
      "Cust_name\n",
      "['Sanskriti' 'Kartik' 'Bindu' ... 'Chris' 'Madan Mohan' 'Nicole']\n",
      "\n",
      "\n",
      "Product_ID\n",
      "['P00125942' 'P00110942' 'P00118542' ... 'P00307142' 'P00044742'\n",
      " 'P00296942']\n",
      "\n",
      "\n",
      "Gender\n",
      "['F' 'M']\n",
      "\n",
      "\n",
      "Age Group\n",
      "['26-35' '0-17' '18-25' '51-55' '46-50' '55+' '36-45']\n",
      "\n",
      "\n",
      "State\n",
      "['Maharashtra' 'Andhra\\xa0Pradesh' 'Uttar Pradesh' 'Karnataka' 'Gujarat'\n",
      " 'Himachal Pradesh' 'Delhi' 'Jharkhand' 'Kerala' 'Haryana'\n",
      " 'Madhya Pradesh' 'Bihar' 'Rajasthan' 'Uttarakhand' 'Telangana' 'Punjab']\n",
      "\n",
      "\n",
      "Zone\n",
      "['Western' 'Southern' 'Central' 'Northern' 'Eastern']\n",
      "\n",
      "\n",
      "Occupation\n",
      "['Healthcare' 'Govt' 'Automobile' 'Construction' 'Food Processing'\n",
      " 'Lawyer' 'Media' 'Banking' 'Retail' 'IT Sector' 'Aviation' 'Hospitality'\n",
      " 'Agriculture' 'Textile' 'Chemical']\n",
      "\n",
      "\n",
      "Product_Category\n",
      "['Auto' 'Hand & Power Tools' 'Stationery' 'Tupperware' 'Footwear & Shoes'\n",
      " 'Furniture' 'Food' 'Games & Toys' 'Sports Products' 'Books'\n",
      " 'Electronics & Gadgets' 'Decor' 'Clothing & Apparel' 'Beauty'\n",
      " 'Household items' 'Pet Care' 'Veterinary' 'Office']\n",
      "\n",
      "\n"
     ]
    }
   ],
   "source": [
    "for i in k.columns:\n",
    "    print(i)\n",
    "    print(df[i].unique())\n",
    "    print(\"\\n\")"
   ]
  },
  {
   "cell_type": "markdown",
   "id": "b74b4ce5",
   "metadata": {
    "papermill": {
     "duration": 0.01184,
     "end_time": "2024-05-08T06:16:47.565669",
     "exception": false,
     "start_time": "2024-05-08T06:16:47.553829",
     "status": "completed"
    },
    "tags": []
   },
   "source": [
    "**\"Exploratory Data Analysis\"**"
   ]
  },
  {
   "cell_type": "code",
   "execution_count": 21,
   "id": "118c2f86",
   "metadata": {
    "execution": {
     "iopub.execute_input": "2024-05-08T06:16:47.591872Z",
     "iopub.status.busy": "2024-05-08T06:16:47.591544Z",
     "iopub.status.idle": "2024-05-08T06:16:47.597351Z",
     "shell.execute_reply": "2024-05-08T06:16:47.596248Z"
    },
    "papermill": {
     "duration": 0.022256,
     "end_time": "2024-05-08T06:16:47.599989",
     "exception": false,
     "start_time": "2024-05-08T06:16:47.577733",
     "status": "completed"
    },
    "tags": []
   },
   "outputs": [
    {
     "data": {
      "text/plain": [
       "Index(['User_ID', 'Cust_name', 'Product_ID', 'Gender', 'Age Group', 'Age',\n",
       "       'Marital_Status', 'State', 'Zone', 'Occupation', 'Product_Category',\n",
       "       'Orders', 'Amount'],\n",
       "      dtype='object')"
      ]
     },
     "execution_count": 21,
     "metadata": {},
     "output_type": "execute_result"
    }
   ],
   "source": [
    "df.columns"
   ]
  },
  {
   "cell_type": "markdown",
   "id": "8c26ea70",
   "metadata": {
    "papermill": {
     "duration": 0.011909,
     "end_time": "2024-05-08T06:16:47.683607",
     "exception": false,
     "start_time": "2024-05-08T06:16:47.671698",
     "status": "completed"
    },
    "tags": []
   },
   "source": [
    "**Gender**"
   ]
  },
  {
   "cell_type": "code",
   "execution_count": 22,
   "id": "53477b66",
   "metadata": {
    "execution": {
     "iopub.execute_input": "2024-05-08T06:16:47.709993Z",
     "iopub.status.busy": "2024-05-08T06:16:47.709628Z",
     "iopub.status.idle": "2024-05-08T06:16:47.992570Z",
     "shell.execute_reply": "2024-05-08T06:16:47.991478Z"
    },
    "papermill": {
     "duration": 0.299249,
     "end_time": "2024-05-08T06:16:47.995107",
     "exception": false,
     "start_time": "2024-05-08T06:16:47.695858",
     "status": "completed"
    },
    "tags": []
   },
   "outputs": [
    {
     "data": {
      "image/png": "[encoded data removed]",
      "text/plain": [
       "<Figure size 600x500 with 1 Axes>"
      ]
     },
     "metadata": {},
     "output_type": "display_data"
    }
   ],
   "source": [
    "plt.figure(figsize = (6,5))\n",
    "gen = sns.countplot(x = 'Gender', data = df, palette=\"gist_ncar\")\n",
    "for bars in gen.containers:\n",
    "    gen.bar_label(bars)\n",
    "plt.show()"
   ]
  },
  {
   "cell_type": "code",
   "execution_count": 23,
   "id": "2a174962",
   "metadata": {
    "execution": {
     "iopub.execute_input": "2024-05-08T06:16:48.023717Z",
     "iopub.status.busy": "2024-05-08T06:16:48.023293Z",
     "iopub.status.idle": "2024-05-08T06:16:48.038710Z",
     "shell.execute_reply": "2024-05-08T06:16:48.036958Z"
    },
    "papermill": {
     "duration": 0.032966,
     "end_time": "2024-05-08T06:16:48.041273",
     "exception": false,
     "start_time": "2024-05-08T06:16:48.008307",
     "status": "completed"
    },
    "tags": []
   },
   "outputs": [
    {
     "data": {
      "text/html": [
       "<div>\n",
       "<style scoped>\n",
       "    .dataframe tbody tr th:only-of-type {\n",
       "        vertical-align: middle;\n",
       "    }\n",
       "\n",
       "    .dataframe tbody tr th {\n",
       "        vertical-align: top;\n",
       "    }\n",
       "\n",
       "    .dataframe thead th {\n",
       "        text-align: right;\n",
       "    }\n",
       "</style>\n",
       "<table border=\"1\" class=\"dataframe\">\n",
       "  <thead>\n",
       "    <tr style=\"text-align: right;\">\n",
       "      <th></th>\n",
       "      <th>Gender</th>\n",
       "      <th>Amount</th>\n",
       "    </tr>\n",
       "  </thead>\n",
       "  <tbody>\n",
       "    <tr>\n",
       "      <th>0</th>\n",
       "      <td>F</td>\n",
       "      <td>74307679</td>\n",
       "    </tr>\n",
       "    <tr>\n",
       "      <th>1</th>\n",
       "      <td>M</td>\n",
       "      <td>31871146</td>\n",
       "    </tr>\n",
       "  </tbody>\n",
       "</table>\n",
       "</div>"
      ],
      "text/plain": [
       "  Gender    Amount\n",
       "0      F  74307679\n",
       "1      M  31871146"
      ]
     },
     "execution_count": 23,
     "metadata": {},
     "output_type": "execute_result"
    }
   ],
   "source": [
    "df.groupby(['Gender'], as_index = False)['Amount'].sum().sort_values(by = 'Amount',ascending = False)"
   ]
  },
  {
   "cell_type": "code",
   "execution_count": 24,
   "id": "b611e80e",
   "metadata": {
    "execution": {
     "iopub.execute_input": "2024-05-08T06:16:48.068031Z",
     "iopub.status.busy": "2024-05-08T06:16:48.067695Z",
     "iopub.status.idle": "2024-05-08T06:16:48.210725Z",
     "shell.execute_reply": "2024-05-08T06:16:48.209863Z"
    },
    "papermill": {
     "duration": 0.158961,
     "end_time": "2024-05-08T06:16:48.212870",
     "exception": false,
     "start_time": "2024-05-08T06:16:48.053909",
     "status": "completed"
    },
    "tags": []
   },
   "outputs": [
    {
     "data": {
      "image/png": "[encoded data removed]",
      "text/plain": [
       "<Figure size 600x500 with 1 Axes>"
      ]
     },
     "metadata": {},
     "output_type": "display_data"
    }
   ],
   "source": [
    "plt.figure(figsize = (6,5))\n",
    "sales = df.groupby(['Gender'], as_index = False)['Amount'].sum().sort_values(by = 'Amount',ascending = False)\n",
    "sns.barplot(x = 'Gender', y = 'Amount', data = sales, palette=\"gist_ncar\")\n",
    "plt.show()"
   ]
  },
  {
   "cell_type": "code",
   "execution_count": 25,
   "id": "3808c282",
   "metadata": {
    "execution": {
     "iopub.execute_input": "2024-05-08T06:16:48.243001Z",
     "iopub.status.busy": "2024-05-08T06:16:48.242652Z",
     "iopub.status.idle": "2024-05-08T06:16:48.512360Z",
     "shell.execute_reply": "2024-05-08T06:16:48.511096Z"
    },
    "papermill": {
     "duration": 0.285973,
     "end_time": "2024-05-08T06:16:48.514430",
     "exception": false,
     "start_time": "2024-05-08T06:16:48.228457",
     "status": "completed"
    },
    "tags": []
   },
   "outputs": [
    {
     "data": {
      "image/png": "[encoded data removed]",
      "text/plain": [
       "<Figure size 600x500 with 1 Axes>"
      ]
     },
     "metadata": {},
     "output_type": "display_data"
    }
   ],
   "source": [
    "plt.figure(figsize = (6,5))\n",
    "ga = sns.countplot(data = df, x = 'Age Group', hue = 'Gender',palette=\"gist_ncar\")\n",
    "for bars in ga.containers:\n",
    "    ga.bar_label(bars)\n",
    "plt.show()"
   ]
  },
  {
   "cell_type": "markdown",
   "id": "d42cf8b8",
   "metadata": {
    "papermill": {
     "duration": 0.013762,
     "end_time": "2024-05-08T06:16:48.541703",
     "exception": false,
     "start_time": "2024-05-08T06:16:48.527941",
     "status": "completed"
    },
    "tags": []
   },
   "source": [
    "**Age**"
   ]
  },
  {
   "cell_type": "code",
   "execution_count": 26,
   "id": "826a2286",
   "metadata": {
    "execution": {
     "iopub.execute_input": "2024-05-08T06:16:48.569626Z",
     "iopub.status.busy": "2024-05-08T06:16:48.569281Z",
     "iopub.status.idle": "2024-05-08T06:16:48.758190Z",
     "shell.execute_reply": "2024-05-08T06:16:48.756910Z"
    },
    "papermill": {
     "duration": 0.204991,
     "end_time": "2024-05-08T06:16:48.760132",
     "exception": false,
     "start_time": "2024-05-08T06:16:48.555141",
     "status": "completed"
    },
    "tags": []
   },
   "outputs": [
    {
     "data": {
      "image/png": "[encoded data removed]",
      "text/plain": [
       "<Figure size 600x500 with 1 Axes>"
      ]
     },
     "metadata": {},
     "output_type": "display_data"
    }
   ],
   "source": [
    "plt.figure(figsize = (6,5))\n",
    "ag = sns.countplot(data = df, x = 'Age Group', palette=\"gist_ncar\")\n",
    "for bars in ag.containers:\n",
    "    ag.bar_label(bars)\n",
    "plt.show()"
   ]
  },
  {
   "cell_type": "code",
   "execution_count": 27,
   "id": "3b5140e1",
   "metadata": {
    "execution": {
     "iopub.execute_input": "2024-05-08T06:16:48.790327Z",
     "iopub.status.busy": "2024-05-08T06:16:48.789956Z",
     "iopub.status.idle": "2024-05-08T06:16:48.803496Z",
     "shell.execute_reply": "2024-05-08T06:16:48.802296Z"
    },
    "papermill": {
     "duration": 0.030692,
     "end_time": "2024-05-08T06:16:48.805353",
     "exception": false,
     "start_time": "2024-05-08T06:16:48.774661",
     "status": "completed"
    },
    "tags": []
   },
   "outputs": [
    {
     "data": {
      "text/html": [
       "<div>\n",
       "<style scoped>\n",
       "    .dataframe tbody tr th:only-of-type {\n",
       "        vertical-align: middle;\n",
       "    }\n",
       "\n",
       "    .dataframe tbody tr th {\n",
       "        vertical-align: top;\n",
       "    }\n",
       "\n",
       "    .dataframe thead th {\n",
       "        text-align: right;\n",
       "    }\n",
       "</style>\n",
       "<table border=\"1\" class=\"dataframe\">\n",
       "  <thead>\n",
       "    <tr style=\"text-align: right;\">\n",
       "      <th></th>\n",
       "      <th>Age Group</th>\n",
       "      <th>Amount</th>\n",
       "    </tr>\n",
       "  </thead>\n",
       "  <tbody>\n",
       "    <tr>\n",
       "      <th>2</th>\n",
       "      <td>26-35</td>\n",
       "      <td>42581767</td>\n",
       "    </tr>\n",
       "    <tr>\n",
       "      <th>3</th>\n",
       "      <td>36-45</td>\n",
       "      <td>22135135</td>\n",
       "    </tr>\n",
       "    <tr>\n",
       "      <th>1</th>\n",
       "      <td>18-25</td>\n",
       "      <td>17235530</td>\n",
       "    </tr>\n",
       "    <tr>\n",
       "      <th>4</th>\n",
       "      <td>46-50</td>\n",
       "      <td>9207844</td>\n",
       "    </tr>\n",
       "    <tr>\n",
       "      <th>5</th>\n",
       "      <td>51-55</td>\n",
       "      <td>8237909</td>\n",
       "    </tr>\n",
       "    <tr>\n",
       "      <th>6</th>\n",
       "      <td>55+</td>\n",
       "      <td>4080987</td>\n",
       "    </tr>\n",
       "    <tr>\n",
       "      <th>0</th>\n",
       "      <td>0-17</td>\n",
       "      <td>2699653</td>\n",
       "    </tr>\n",
       "  </tbody>\n",
       "</table>\n",
       "</div>"
      ],
      "text/plain": [
       "  Age Group    Amount\n",
       "2     26-35  42581767\n",
       "3     36-45  22135135\n",
       "1     18-25  17235530\n",
       "4     46-50   9207844\n",
       "5     51-55   8237909\n",
       "6       55+   4080987\n",
       "0      0-17   2699653"
      ]
     },
     "execution_count": 27,
     "metadata": {},
     "output_type": "execute_result"
    }
   ],
   "source": [
    "df.groupby(['Age Group'], as_index = False)['Amount'].sum().sort_values(by = 'Amount',ascending = False)"
   ]
  },
  {
   "cell_type": "code",
   "execution_count": 28,
   "id": "3ba2531e",
   "metadata": {
    "execution": {
     "iopub.execute_input": "2024-05-08T06:16:48.834280Z",
     "iopub.status.busy": "2024-05-08T06:16:48.833923Z",
     "iopub.status.idle": "2024-05-08T06:16:49.009895Z",
     "shell.execute_reply": "2024-05-08T06:16:49.008540Z"
    },
    "papermill": {
     "duration": 0.193377,
     "end_time": "2024-05-08T06:16:49.012252",
     "exception": false,
     "start_time": "2024-05-08T06:16:48.818875",
     "status": "completed"
    },
    "tags": []
   },
   "outputs": [
    {
     "data": {
      "image/png": "[encoded data removed]",
      "text/plain": [
       "<Figure size 640x480 with 1 Axes>"
      ]
     },
     "metadata": {},
     "output_type": "display_data"
    }
   ],
   "source": [
    "ab = df.groupby(['Age Group'], as_index = False)['Amount'].sum().sort_values(by = 'Amount',ascending = False)\n",
    "sns.barplot(x = 'Age Group', y = 'Amount', data = ab, palette = \"gist_ncar\")\n",
    "plt.show()"
   ]
  },
  {
   "cell_type": "code",
   "execution_count": 29,
   "id": "3610259e",
   "metadata": {
    "execution": {
     "iopub.execute_input": "2024-05-08T06:16:49.043053Z",
     "iopub.status.busy": "2024-05-08T06:16:49.042403Z",
     "iopub.status.idle": "2024-05-08T06:16:49.048770Z",
     "shell.execute_reply": "2024-05-08T06:16:49.047985Z"
    },
    "papermill": {
     "duration": 0.024265,
     "end_time": "2024-05-08T06:16:49.050627",
     "exception": false,
     "start_time": "2024-05-08T06:16:49.026362",
     "status": "completed"
    },
    "tags": []
   },
   "outputs": [
    {
     "data": {
      "text/plain": [
       "Index(['User_ID', 'Cust_name', 'Product_ID', 'Gender', 'Age Group', 'Age',\n",
       "       'Marital_Status', 'State', 'Zone', 'Occupation', 'Product_Category',\n",
       "       'Orders', 'Amount'],\n",
       "      dtype='object')"
      ]
     },
     "execution_count": 29,
     "metadata": {},
     "output_type": "execute_result"
    }
   ],
   "source": [
    "df.columns"
   ]
  },
  {
   "cell_type": "markdown",
   "id": "dfa0f95b",
   "metadata": {
    "papermill": {
     "duration": 0.014296,
     "end_time": "2024-05-08T06:16:49.079178",
     "exception": false,
     "start_time": "2024-05-08T06:16:49.064882",
     "status": "completed"
    },
    "tags": []
   },
   "source": [
    "**Marital_Status**"
   ]
  },
  {
   "cell_type": "code",
   "execution_count": 30,
   "id": "81af6acc",
   "metadata": {
    "execution": {
     "iopub.execute_input": "2024-05-08T06:16:49.110713Z",
     "iopub.status.busy": "2024-05-08T06:16:49.110026Z",
     "iopub.status.idle": "2024-05-08T06:16:49.265482Z",
     "shell.execute_reply": "2024-05-08T06:16:49.264620Z"
    },
    "papermill": {
     "duration": 0.174263,
     "end_time": "2024-05-08T06:16:49.267854",
     "exception": false,
     "start_time": "2024-05-08T06:16:49.093591",
     "status": "completed"
    },
    "tags": []
   },
   "outputs": [
    {
     "data": {
      "image/png": "[encoded data removed]",
      "text/plain": [
       "<Figure size 600x500 with 1 Axes>"
      ]
     },
     "metadata": {},
     "output_type": "display_data"
    }
   ],
   "source": [
    "plt.figure(figsize = (6,5))\n",
    "g = sns.countplot(x = 'Marital_Status', data = df, palette = \"Blues\")\n",
    "for bars in g.containers:\n",
    "    g.bar_label(bars)\n",
    "plt.show()"
   ]
  },
  {
   "cell_type": "code",
   "execution_count": 31,
   "id": "0c801679",
   "metadata": {
    "execution": {
     "iopub.execute_input": "2024-05-08T06:16:49.300048Z",
     "iopub.status.busy": "2024-05-08T06:16:49.299711Z",
     "iopub.status.idle": "2024-05-08T06:16:49.471857Z",
     "shell.execute_reply": "2024-05-08T06:16:49.469957Z"
    },
    "papermill": {
     "duration": 0.190189,
     "end_time": "2024-05-08T06:16:49.474425",
     "exception": false,
     "start_time": "2024-05-08T06:16:49.284236",
     "status": "completed"
    },
    "tags": []
   },
   "outputs": [
    {
     "data": {
      "image/png": "[encoded data removed]",
      "text/plain": [
       "<Figure size 600x500 with 1 Axes>"
      ]
     },
     "metadata": {},
     "output_type": "display_data"
    }
   ],
   "source": [
    "plt.figure(figsize = (6,5))\n",
    "g = sns.countplot(x = 'Marital_Status',hue = \"Gender\", data = df, palette = \"gist_ncar\")\n",
    "for bars in g.containers:\n",
    "    g.bar_label(bars)\n",
    "plt.show()"
   ]
  },
  {
   "cell_type": "markdown",
   "id": "5cfeeadd",
   "metadata": {
    "papermill": {
     "duration": 0.014263,
     "end_time": "2024-05-08T06:16:49.503342",
     "exception": false,
     "start_time": "2024-05-08T06:16:49.489079",
     "status": "completed"
    },
    "tags": []
   },
   "source": [
    " **State**"
   ]
  },
  {
   "cell_type": "code",
   "execution_count": 32,
   "id": "b304a960",
   "metadata": {
    "execution": {
     "iopub.execute_input": "2024-05-08T06:16:49.534341Z",
     "iopub.status.busy": "2024-05-08T06:16:49.533682Z",
     "iopub.status.idle": "2024-05-08T06:16:49.546386Z",
     "shell.execute_reply": "2024-05-08T06:16:49.545234Z"
    },
    "papermill": {
     "duration": 0.031111,
     "end_time": "2024-05-08T06:16:49.548892",
     "exception": false,
     "start_time": "2024-05-08T06:16:49.517781",
     "status": "completed"
    },
    "tags": []
   },
   "outputs": [
    {
     "data": {
      "text/html": [
       "<div>\n",
       "<style scoped>\n",
       "    .dataframe tbody tr th:only-of-type {\n",
       "        vertical-align: middle;\n",
       "    }\n",
       "\n",
       "    .dataframe tbody tr th {\n",
       "        vertical-align: top;\n",
       "    }\n",
       "\n",
       "    .dataframe thead th {\n",
       "        text-align: right;\n",
       "    }\n",
       "</style>\n",
       "<table border=\"1\" class=\"dataframe\">\n",
       "  <thead>\n",
       "    <tr style=\"text-align: right;\">\n",
       "      <th></th>\n",
       "      <th>State</th>\n",
       "      <th>Amount</th>\n",
       "    </tr>\n",
       "  </thead>\n",
       "  <tbody>\n",
       "    <tr>\n",
       "      <th>0</th>\n",
       "      <td>Andhra Pradesh</td>\n",
       "      <td>8037146</td>\n",
       "    </tr>\n",
       "    <tr>\n",
       "      <th>1</th>\n",
       "      <td>Bihar</td>\n",
       "      <td>4014669</td>\n",
       "    </tr>\n",
       "    <tr>\n",
       "      <th>2</th>\n",
       "      <td>Delhi</td>\n",
       "      <td>11603818</td>\n",
       "    </tr>\n",
       "    <tr>\n",
       "      <th>3</th>\n",
       "      <td>Gujarat</td>\n",
       "      <td>3938159</td>\n",
       "    </tr>\n",
       "    <tr>\n",
       "      <th>4</th>\n",
       "      <td>Haryana</td>\n",
       "      <td>4217871</td>\n",
       "    </tr>\n",
       "    <tr>\n",
       "      <th>5</th>\n",
       "      <td>Himachal Pradesh</td>\n",
       "      <td>4963368</td>\n",
       "    </tr>\n",
       "    <tr>\n",
       "      <th>6</th>\n",
       "      <td>Jharkhand</td>\n",
       "      <td>3026456</td>\n",
       "    </tr>\n",
       "    <tr>\n",
       "      <th>7</th>\n",
       "      <td>Karnataka</td>\n",
       "      <td>13523540</td>\n",
       "    </tr>\n",
       "    <tr>\n",
       "      <th>8</th>\n",
       "      <td>Kerala</td>\n",
       "      <td>3894491</td>\n",
       "    </tr>\n",
       "    <tr>\n",
       "      <th>9</th>\n",
       "      <td>Madhya Pradesh</td>\n",
       "      <td>8101142</td>\n",
       "    </tr>\n",
       "    <tr>\n",
       "      <th>10</th>\n",
       "      <td>Maharashtra</td>\n",
       "      <td>14404467</td>\n",
       "    </tr>\n",
       "    <tr>\n",
       "      <th>11</th>\n",
       "      <td>Punjab</td>\n",
       "      <td>1525800</td>\n",
       "    </tr>\n",
       "    <tr>\n",
       "      <th>12</th>\n",
       "      <td>Rajasthan</td>\n",
       "      <td>1909409</td>\n",
       "    </tr>\n",
       "    <tr>\n",
       "      <th>13</th>\n",
       "      <td>Telangana</td>\n",
       "      <td>1151490</td>\n",
       "    </tr>\n",
       "    <tr>\n",
       "      <th>14</th>\n",
       "      <td>Uttar Pradesh</td>\n",
       "      <td>19346055</td>\n",
       "    </tr>\n",
       "    <tr>\n",
       "      <th>15</th>\n",
       "      <td>Uttarakhand</td>\n",
       "      <td>2520944</td>\n",
       "    </tr>\n",
       "  </tbody>\n",
       "</table>\n",
       "</div>"
      ],
      "text/plain": [
       "               State    Amount\n",
       "0     Andhra Pradesh   8037146\n",
       "1              Bihar   4014669\n",
       "2              Delhi  11603818\n",
       "3            Gujarat   3938159\n",
       "4            Haryana   4217871\n",
       "5   Himachal Pradesh   4963368\n",
       "6          Jharkhand   3026456\n",
       "7          Karnataka  13523540\n",
       "8             Kerala   3894491\n",
       "9     Madhya Pradesh   8101142\n",
       "10       Maharashtra  14404467\n",
       "11            Punjab   1525800\n",
       "12         Rajasthan   1909409\n",
       "13         Telangana   1151490\n",
       "14     Uttar Pradesh  19346055\n",
       "15       Uttarakhand   2520944"
      ]
     },
     "execution_count": 32,
     "metadata": {},
     "output_type": "execute_result"
    }
   ],
   "source": [
    "df.groupby(['State'], as_index = False)['Amount'].sum().sort_values(by = 'Amount',ascending = False).sort_index()"
   ]
  },
  {
   "cell_type": "code",
   "execution_count": 33,
   "id": "54bfff23",
   "metadata": {
    "execution": {
     "iopub.execute_input": "2024-05-08T06:16:49.580192Z",
     "iopub.status.busy": "2024-05-08T06:16:49.579546Z",
     "iopub.status.idle": "2024-05-08T06:16:49.966203Z",
     "shell.execute_reply": "2024-05-08T06:16:49.965314Z"
    },
    "papermill": {
     "duration": 0.404766,
     "end_time": "2024-05-08T06:16:49.968502",
     "exception": false,
     "start_time": "2024-05-08T06:16:49.563736",
     "status": "completed"
    },
    "tags": []
   },
   "outputs": [
    {
     "data": {
      "image/png": "[encoded data removed]",
      "text/plain": [
       "<Figure size 1000x1500 with 1 Axes>"
      ]
     },
     "metadata": {},
     "output_type": "display_data"
    }
   ],
   "source": [
    "plt.figure(figsize = (10,15))\n",
    "dg = df.groupby(['State'], as_index = False)['Amount'].sum().sort_values(by = 'Amount',ascending = False).sort_index()\n",
    "nn = sns.barplot(x = \"Amount\", y = \"State\", data = dg, palette = \"gist_ncar\")\n",
    "for i in nn.containers:\n",
    "    nn.bar_label(i)\n",
    "plt.show()"
   ]
  },
  {
   "cell_type": "code",
   "execution_count": 34,
   "id": "d6b4da98",
   "metadata": {
    "execution": {
     "iopub.execute_input": "2024-05-08T06:16:50.002625Z",
     "iopub.status.busy": "2024-05-08T06:16:50.002248Z",
     "iopub.status.idle": "2024-05-08T06:16:50.015856Z",
     "shell.execute_reply": "2024-05-08T06:16:50.014319Z"
    },
    "papermill": {
     "duration": 0.033886,
     "end_time": "2024-05-08T06:16:50.017816",
     "exception": false,
     "start_time": "2024-05-08T06:16:49.983930",
     "status": "completed"
    },
    "tags": []
   },
   "outputs": [
    {
     "data": {
      "text/html": [
       "<div>\n",
       "<style scoped>\n",
       "    .dataframe tbody tr th:only-of-type {\n",
       "        vertical-align: middle;\n",
       "    }\n",
       "\n",
       "    .dataframe tbody tr th {\n",
       "        vertical-align: top;\n",
       "    }\n",
       "\n",
       "    .dataframe thead th {\n",
       "        text-align: right;\n",
       "    }\n",
       "</style>\n",
       "<table border=\"1\" class=\"dataframe\">\n",
       "  <thead>\n",
       "    <tr style=\"text-align: right;\">\n",
       "      <th></th>\n",
       "      <th>State</th>\n",
       "      <th>Orders</th>\n",
       "    </tr>\n",
       "  </thead>\n",
       "  <tbody>\n",
       "    <tr>\n",
       "      <th>0</th>\n",
       "      <td>Andhra Pradesh</td>\n",
       "      <td>2051</td>\n",
       "    </tr>\n",
       "    <tr>\n",
       "      <th>1</th>\n",
       "      <td>Bihar</td>\n",
       "      <td>1058</td>\n",
       "    </tr>\n",
       "    <tr>\n",
       "      <th>2</th>\n",
       "      <td>Delhi</td>\n",
       "      <td>2740</td>\n",
       "    </tr>\n",
       "    <tr>\n",
       "      <th>3</th>\n",
       "      <td>Gujarat</td>\n",
       "      <td>1063</td>\n",
       "    </tr>\n",
       "    <tr>\n",
       "      <th>4</th>\n",
       "      <td>Haryana</td>\n",
       "      <td>1106</td>\n",
       "    </tr>\n",
       "    <tr>\n",
       "      <th>5</th>\n",
       "      <td>Himachal Pradesh</td>\n",
       "      <td>1568</td>\n",
       "    </tr>\n",
       "    <tr>\n",
       "      <th>6</th>\n",
       "      <td>Jharkhand</td>\n",
       "      <td>953</td>\n",
       "    </tr>\n",
       "    <tr>\n",
       "      <th>7</th>\n",
       "      <td>Karnataka</td>\n",
       "      <td>3240</td>\n",
       "    </tr>\n",
       "    <tr>\n",
       "      <th>8</th>\n",
       "      <td>Kerala</td>\n",
       "      <td>1137</td>\n",
       "    </tr>\n",
       "    <tr>\n",
       "      <th>9</th>\n",
       "      <td>Madhya Pradesh</td>\n",
       "      <td>2252</td>\n",
       "    </tr>\n",
       "    <tr>\n",
       "      <th>10</th>\n",
       "      <td>Maharashtra</td>\n",
       "      <td>3798</td>\n",
       "    </tr>\n",
       "    <tr>\n",
       "      <th>11</th>\n",
       "      <td>Punjab</td>\n",
       "      <td>495</td>\n",
       "    </tr>\n",
       "    <tr>\n",
       "      <th>12</th>\n",
       "      <td>Rajasthan</td>\n",
       "      <td>555</td>\n",
       "    </tr>\n",
       "    <tr>\n",
       "      <th>13</th>\n",
       "      <td>Telangana</td>\n",
       "      <td>312</td>\n",
       "    </tr>\n",
       "    <tr>\n",
       "      <th>14</th>\n",
       "      <td>Uttar Pradesh</td>\n",
       "      <td>4803</td>\n",
       "    </tr>\n",
       "    <tr>\n",
       "      <th>15</th>\n",
       "      <td>Uttarakhand</td>\n",
       "      <td>824</td>\n",
       "    </tr>\n",
       "  </tbody>\n",
       "</table>\n",
       "</div>"
      ],
      "text/plain": [
       "               State  Orders\n",
       "0     Andhra Pradesh    2051\n",
       "1              Bihar    1058\n",
       "2              Delhi    2740\n",
       "3            Gujarat    1063\n",
       "4            Haryana    1106\n",
       "5   Himachal Pradesh    1568\n",
       "6          Jharkhand     953\n",
       "7          Karnataka    3240\n",
       "8             Kerala    1137\n",
       "9     Madhya Pradesh    2252\n",
       "10       Maharashtra    3798\n",
       "11            Punjab     495\n",
       "12         Rajasthan     555\n",
       "13         Telangana     312\n",
       "14     Uttar Pradesh    4803\n",
       "15       Uttarakhand     824"
      ]
     },
     "execution_count": 34,
     "metadata": {},
     "output_type": "execute_result"
    }
   ],
   "source": [
    "df.groupby(['State'], as_index = False)['Orders'].sum().sort_values(by = 'Orders',ascending = False).sort_index()"
   ]
  },
  {
   "cell_type": "code",
   "execution_count": 35,
   "id": "9a9a0270",
   "metadata": {
    "execution": {
     "iopub.execute_input": "2024-05-08T06:16:50.050642Z",
     "iopub.status.busy": "2024-05-08T06:16:50.050313Z",
     "iopub.status.idle": "2024-05-08T06:16:50.393500Z",
     "shell.execute_reply": "2024-05-08T06:16:50.391882Z"
    },
    "papermill": {
     "duration": 0.362865,
     "end_time": "2024-05-08T06:16:50.396391",
     "exception": false,
     "start_time": "2024-05-08T06:16:50.033526",
     "status": "completed"
    },
    "tags": []
   },
   "outputs": [
    {
     "data": {
      "image/png": "[encoded data removed]",
      "text/plain": [
       "<Figure size 1000x1500 with 1 Axes>"
      ]
     },
     "metadata": {},
     "output_type": "display_data"
    }
   ],
   "source": [
    "plt.figure(figsize = (10,15))\n",
    "dk = df.groupby(['State'], as_index = False)['Orders'].sum().sort_values(by = 'Orders',ascending = False)\n",
    "nm = sns.barplot(y = \"State\", x = \"Orders\", data = dk, palette = \"gist_ncar\")\n",
    "for i in nm.containers:\n",
    "    nm.bar_label(i)\n",
    "plt.show()"
   ]
  },
  {
   "cell_type": "markdown",
   "id": "a17f8f36",
   "metadata": {
    "papermill": {
     "duration": 0.016162,
     "end_time": "2024-05-08T06:16:50.432334",
     "exception": false,
     "start_time": "2024-05-08T06:16:50.416172",
     "status": "completed"
    },
    "tags": []
   },
   "source": [
    "**Occupation**"
   ]
  },
  {
   "cell_type": "code",
   "execution_count": 36,
   "id": "3fa2d346",
   "metadata": {
    "execution": {
     "iopub.execute_input": "2024-05-08T06:16:50.466741Z",
     "iopub.status.busy": "2024-05-08T06:16:50.466404Z",
     "iopub.status.idle": "2024-05-08T06:16:50.737682Z",
     "shell.execute_reply": "2024-05-08T06:16:50.736306Z"
    },
    "papermill": {
     "duration": 0.290945,
     "end_time": "2024-05-08T06:16:50.740293",
     "exception": false,
     "start_time": "2024-05-08T06:16:50.449348",
     "status": "completed"
    },
    "tags": []
   },
   "outputs": [
    {
     "data": {
      "image/png": "[encoded data removed]",
      "text/plain": [
       "<Figure size 2000x500 with 1 Axes>"
      ]
     },
     "metadata": {},
     "output_type": "display_data"
    }
   ],
   "source": [
    "plt.figure(figsize = (20,5))\n",
    "sns.countplot(x = \"Occupation\", data = df, palette = \"gist_ncar\")\n",
    "plt.show()"
   ]
  },
  {
   "cell_type": "code",
   "execution_count": 37,
   "id": "bb8f05d8",
   "metadata": {
    "execution": {
     "iopub.execute_input": "2024-05-08T06:16:50.776216Z",
     "iopub.status.busy": "2024-05-08T06:16:50.775836Z",
     "iopub.status.idle": "2024-05-08T06:16:50.789410Z",
     "shell.execute_reply": "2024-05-08T06:16:50.788253Z"
    },
    "papermill": {
     "duration": 0.033632,
     "end_time": "2024-05-08T06:16:50.791291",
     "exception": false,
     "start_time": "2024-05-08T06:16:50.757659",
     "status": "completed"
    },
    "tags": []
   },
   "outputs": [
    {
     "data": {
      "text/html": [
       "<div>\n",
       "<style scoped>\n",
       "    .dataframe tbody tr th:only-of-type {\n",
       "        vertical-align: middle;\n",
       "    }\n",
       "\n",
       "    .dataframe tbody tr th {\n",
       "        vertical-align: top;\n",
       "    }\n",
       "\n",
       "    .dataframe thead th {\n",
       "        text-align: right;\n",
       "    }\n",
       "</style>\n",
       "<table border=\"1\" class=\"dataframe\">\n",
       "  <thead>\n",
       "    <tr style=\"text-align: right;\">\n",
       "      <th></th>\n",
       "      <th>Occupation</th>\n",
       "      <th>Amount</th>\n",
       "    </tr>\n",
       "  </thead>\n",
       "  <tbody>\n",
       "    <tr>\n",
       "      <th>0</th>\n",
       "      <td>Agriculture</td>\n",
       "      <td>2584999</td>\n",
       "    </tr>\n",
       "    <tr>\n",
       "      <th>1</th>\n",
       "      <td>Automobile</td>\n",
       "      <td>5368596</td>\n",
       "    </tr>\n",
       "    <tr>\n",
       "      <th>2</th>\n",
       "      <td>Aviation</td>\n",
       "      <td>12599994</td>\n",
       "    </tr>\n",
       "    <tr>\n",
       "      <th>3</th>\n",
       "      <td>Banking</td>\n",
       "      <td>10770610</td>\n",
       "    </tr>\n",
       "    <tr>\n",
       "      <th>4</th>\n",
       "      <td>Chemical</td>\n",
       "      <td>5297436</td>\n",
       "    </tr>\n",
       "    <tr>\n",
       "      <th>5</th>\n",
       "      <td>Construction</td>\n",
       "      <td>3589588</td>\n",
       "    </tr>\n",
       "    <tr>\n",
       "      <th>6</th>\n",
       "      <td>Food Processing</td>\n",
       "      <td>4070670</td>\n",
       "    </tr>\n",
       "    <tr>\n",
       "      <th>7</th>\n",
       "      <td>Govt</td>\n",
       "      <td>8517212</td>\n",
       "    </tr>\n",
       "    <tr>\n",
       "      <th>8</th>\n",
       "      <td>Healthcare</td>\n",
       "      <td>13034586</td>\n",
       "    </tr>\n",
       "    <tr>\n",
       "      <th>9</th>\n",
       "      <td>Hospitality</td>\n",
       "      <td>6337633</td>\n",
       "    </tr>\n",
       "    <tr>\n",
       "      <th>10</th>\n",
       "      <td>IT Sector</td>\n",
       "      <td>14741862</td>\n",
       "    </tr>\n",
       "    <tr>\n",
       "      <th>11</th>\n",
       "      <td>Lawyer</td>\n",
       "      <td>4981665</td>\n",
       "    </tr>\n",
       "    <tr>\n",
       "      <th>12</th>\n",
       "      <td>Media</td>\n",
       "      <td>6295832</td>\n",
       "    </tr>\n",
       "    <tr>\n",
       "      <th>13</th>\n",
       "      <td>Retail</td>\n",
       "      <td>4783170</td>\n",
       "    </tr>\n",
       "    <tr>\n",
       "      <th>14</th>\n",
       "      <td>Textile</td>\n",
       "      <td>3204972</td>\n",
       "    </tr>\n",
       "  </tbody>\n",
       "</table>\n",
       "</div>"
      ],
      "text/plain": [
       "         Occupation    Amount\n",
       "0       Agriculture   2584999\n",
       "1        Automobile   5368596\n",
       "2          Aviation  12599994\n",
       "3           Banking  10770610\n",
       "4          Chemical   5297436\n",
       "5      Construction   3589588\n",
       "6   Food Processing   4070670\n",
       "7              Govt   8517212\n",
       "8        Healthcare  13034586\n",
       "9       Hospitality   6337633\n",
       "10        IT Sector  14741862\n",
       "11           Lawyer   4981665\n",
       "12            Media   6295832\n",
       "13           Retail   4783170\n",
       "14          Textile   3204972"
      ]
     },
     "execution_count": 37,
     "metadata": {},
     "output_type": "execute_result"
    }
   ],
   "source": [
    "saleoc = df.groupby([\"Occupation\"], as_index = False)[\"Amount\"].sum().sort_values(by = \"Amount\", ascending = False).sort_index()\n",
    "saleoc"
   ]
  },
  {
   "cell_type": "code",
   "execution_count": 38,
   "id": "f092f76a",
   "metadata": {
    "execution": {
     "iopub.execute_input": "2024-05-08T06:16:50.825589Z",
     "iopub.status.busy": "2024-05-08T06:16:50.825267Z",
     "iopub.status.idle": "2024-05-08T06:16:51.091058Z",
     "shell.execute_reply": "2024-05-08T06:16:51.090209Z"
    },
    "papermill": {
     "duration": 0.285302,
     "end_time": "2024-05-08T06:16:51.092981",
     "exception": false,
     "start_time": "2024-05-08T06:16:50.807679",
     "status": "completed"
    },
    "tags": []
   },
   "outputs": [
    {
     "data": {
      "image/png": "[encoded data removed]",
      "text/plain": [
       "<Figure size 2000x500 with 1 Axes>"
      ]
     },
     "metadata": {},
     "output_type": "display_data"
    }
   ],
   "source": [
    "plt.figure(figsize = (20,5))\n",
    "saleoc = df.groupby([\"Occupation\"], as_index = False)[\"Amount\"].sum().sort_values(by = \"Amount\", ascending = False)\n",
    "sns.barplot(x = \"Occupation\", y = \"Amount\", data = saleoc, palette = \"gist_ncar\")\n",
    "plt.show()"
   ]
  },
  {
   "cell_type": "code",
   "execution_count": 39,
   "id": "9430cc19",
   "metadata": {
    "execution": {
     "iopub.execute_input": "2024-05-08T06:16:51.130064Z",
     "iopub.status.busy": "2024-05-08T06:16:51.129453Z",
     "iopub.status.idle": "2024-05-08T06:16:51.145963Z",
     "shell.execute_reply": "2024-05-08T06:16:51.144810Z"
    },
    "papermill": {
     "duration": 0.037528,
     "end_time": "2024-05-08T06:16:51.147954",
     "exception": false,
     "start_time": "2024-05-08T06:16:51.110426",
     "status": "completed"
    },
    "tags": []
   },
   "outputs": [
    {
     "data": {
      "text/html": [
       "<div>\n",
       "<style scoped>\n",
       "    .dataframe tbody tr th:only-of-type {\n",
       "        vertical-align: middle;\n",
       "    }\n",
       "\n",
       "    .dataframe tbody tr th {\n",
       "        vertical-align: top;\n",
       "    }\n",
       "\n",
       "    .dataframe thead th {\n",
       "        text-align: right;\n",
       "    }\n",
       "</style>\n",
       "<table border=\"1\" class=\"dataframe\">\n",
       "  <thead>\n",
       "    <tr style=\"text-align: right;\">\n",
       "      <th></th>\n",
       "      <th>Occupation</th>\n",
       "      <th>Orders</th>\n",
       "    </tr>\n",
       "  </thead>\n",
       "  <tbody>\n",
       "    <tr>\n",
       "      <th>0</th>\n",
       "      <td>Agriculture</td>\n",
       "      <td>718</td>\n",
       "    </tr>\n",
       "    <tr>\n",
       "      <th>1</th>\n",
       "      <td>Automobile</td>\n",
       "      <td>1371</td>\n",
       "    </tr>\n",
       "    <tr>\n",
       "      <th>2</th>\n",
       "      <td>Aviation</td>\n",
       "      <td>3212</td>\n",
       "    </tr>\n",
       "    <tr>\n",
       "      <th>3</th>\n",
       "      <td>Banking</td>\n",
       "      <td>2817</td>\n",
       "    </tr>\n",
       "    <tr>\n",
       "      <th>4</th>\n",
       "      <td>Chemical</td>\n",
       "      <td>1309</td>\n",
       "    </tr>\n",
       "    <tr>\n",
       "      <th>5</th>\n",
       "      <td>Construction</td>\n",
       "      <td>1022</td>\n",
       "    </tr>\n",
       "    <tr>\n",
       "      <th>6</th>\n",
       "      <td>Food Processing</td>\n",
       "      <td>1073</td>\n",
       "    </tr>\n",
       "    <tr>\n",
       "      <th>7</th>\n",
       "      <td>Govt</td>\n",
       "      <td>2155</td>\n",
       "    </tr>\n",
       "    <tr>\n",
       "      <th>8</th>\n",
       "      <td>Healthcare</td>\n",
       "      <td>3455</td>\n",
       "    </tr>\n",
       "    <tr>\n",
       "      <th>9</th>\n",
       "      <td>Hospitality</td>\n",
       "      <td>1731</td>\n",
       "    </tr>\n",
       "    <tr>\n",
       "      <th>10</th>\n",
       "      <td>IT Sector</td>\n",
       "      <td>3989</td>\n",
       "    </tr>\n",
       "    <tr>\n",
       "      <th>11</th>\n",
       "      <td>Lawyer</td>\n",
       "      <td>1344</td>\n",
       "    </tr>\n",
       "    <tr>\n",
       "      <th>12</th>\n",
       "      <td>Media</td>\n",
       "      <td>1596</td>\n",
       "    </tr>\n",
       "    <tr>\n",
       "      <th>13</th>\n",
       "      <td>Retail</td>\n",
       "      <td>1270</td>\n",
       "    </tr>\n",
       "    <tr>\n",
       "      <th>14</th>\n",
       "      <td>Textile</td>\n",
       "      <td>893</td>\n",
       "    </tr>\n",
       "  </tbody>\n",
       "</table>\n",
       "</div>"
      ],
      "text/plain": [
       "         Occupation  Orders\n",
       "0       Agriculture     718\n",
       "1        Automobile    1371\n",
       "2          Aviation    3212\n",
       "3           Banking    2817\n",
       "4          Chemical    1309\n",
       "5      Construction    1022\n",
       "6   Food Processing    1073\n",
       "7              Govt    2155\n",
       "8        Healthcare    3455\n",
       "9       Hospitality    1731\n",
       "10        IT Sector    3989\n",
       "11           Lawyer    1344\n",
       "12            Media    1596\n",
       "13           Retail    1270\n",
       "14          Textile     893"
      ]
     },
     "execution_count": 39,
     "metadata": {},
     "output_type": "execute_result"
    }
   ],
   "source": [
    "saleoco = df.groupby([\"Occupation\"], as_index = False)[\"Orders\"].sum().sort_values(by = \"Orders\", ascending = False).sort_index()\n",
    "saleoco"
   ]
  },
  {
   "cell_type": "code",
   "execution_count": 40,
   "id": "3a31e40b",
   "metadata": {
    "execution": {
     "iopub.execute_input": "2024-05-08T06:16:51.186270Z",
     "iopub.status.busy": "2024-05-08T06:16:51.185566Z",
     "iopub.status.idle": "2024-05-08T06:16:51.485167Z",
     "shell.execute_reply": "2024-05-08T06:16:51.483899Z"
    },
    "papermill": {
     "duration": 0.321469,
     "end_time": "2024-05-08T06:16:51.487371",
     "exception": false,
     "start_time": "2024-05-08T06:16:51.165902",
     "status": "completed"
    },
    "tags": []
   },
   "outputs": [
    {
     "data": {
      "image/png": "[encoded data removed]",
      "text/plain": [
       "<Figure size 2000x500 with 1 Axes>"
      ]
     },
     "metadata": {},
     "output_type": "display_data"
    }
   ],
   "source": [
    "plt.figure(figsize=(20, 5))  # Set the size of the figure\n",
    "saleoco = df.groupby([\"Occupation\"], as_index=False)[\"Orders\"].sum().sort_values(by=\"Orders\", ascending=False)  # Grouping data by Occupation and summing up Orders\n",
    "sns.barplot(x=\"Occupation\", y=\"Orders\", data=saleoco, palette=\"gist_ncar\")  # Creating the bar plot\n",
    "plt.show()"
   ]
  },
  {
   "cell_type": "code",
   "execution_count": 41,
   "id": "ee23b805",
   "metadata": {
    "execution": {
     "iopub.execute_input": "2024-05-08T06:16:51.526626Z",
     "iopub.status.busy": "2024-05-08T06:16:51.524684Z",
     "iopub.status.idle": "2024-05-08T06:16:51.532692Z",
     "shell.execute_reply": "2024-05-08T06:16:51.531565Z"
    },
    "papermill": {
     "duration": 0.029874,
     "end_time": "2024-05-08T06:16:51.535171",
     "exception": false,
     "start_time": "2024-05-08T06:16:51.505297",
     "status": "completed"
    },
    "tags": []
   },
   "outputs": [
    {
     "data": {
      "text/plain": [
       "Index(['User_ID', 'Cust_name', 'Product_ID', 'Gender', 'Age Group', 'Age',\n",
       "       'Marital_Status', 'State', 'Zone', 'Occupation', 'Product_Category',\n",
       "       'Orders', 'Amount'],\n",
       "      dtype='object')"
      ]
     },
     "execution_count": 41,
     "metadata": {},
     "output_type": "execute_result"
    }
   ],
   "source": [
    "df.columns"
   ]
  },
  {
   "cell_type": "markdown",
   "id": "47eac19e",
   "metadata": {
    "papermill": {
     "duration": 0.018644,
     "end_time": "2024-05-08T06:16:51.575423",
     "exception": false,
     "start_time": "2024-05-08T06:16:51.556779",
     "status": "completed"
    },
    "tags": []
   },
   "source": [
    "**Product_Category**"
   ]
  },
  {
   "cell_type": "code",
   "execution_count": 42,
   "id": "bb8abbb1",
   "metadata": {
    "execution": {
     "iopub.execute_input": "2024-05-08T06:16:51.615045Z",
     "iopub.status.busy": "2024-05-08T06:16:51.614739Z",
     "iopub.status.idle": "2024-05-08T06:16:51.878656Z",
     "shell.execute_reply": "2024-05-08T06:16:51.877827Z"
    },
    "papermill": {
     "duration": 0.287623,
     "end_time": "2024-05-08T06:16:51.880817",
     "exception": false,
     "start_time": "2024-05-08T06:16:51.593194",
     "status": "completed"
    },
    "tags": []
   },
   "outputs": [
    {
     "data": {
      "image/png": "[encoded data removed]",
      "text/plain": [
       "<Figure size 500x1000 with 1 Axes>"
      ]
     },
     "metadata": {},
     "output_type": "display_data"
    }
   ],
   "source": [
    "plt.figure(figsize = (5,10))\n",
    "ad = sns.countplot(y = \"Product_Category\", data = df, palette = \"gist_ncar\")\n",
    "plt.show()"
   ]
  },
  {
   "cell_type": "code",
   "execution_count": 43,
   "id": "c679fe7e",
   "metadata": {
    "execution": {
     "iopub.execute_input": "2024-05-08T06:16:51.921325Z",
     "iopub.status.busy": "2024-05-08T06:16:51.920656Z",
     "iopub.status.idle": "2024-05-08T06:16:52.303858Z",
     "shell.execute_reply": "2024-05-08T06:16:52.302973Z"
    },
    "papermill": {
     "duration": 0.406935,
     "end_time": "2024-05-08T06:16:52.306301",
     "exception": false,
     "start_time": "2024-05-08T06:16:51.899366",
     "status": "completed"
    },
    "tags": []
   },
   "outputs": [
    {
     "data": {
      "image/png": "[encoded data removed]",
      "text/plain": [
       "<Figure size 3000x500 with 1 Axes>"
      ]
     },
     "metadata": {},
     "output_type": "display_data"
    }
   ],
   "source": [
    "plt.figure(figsize = (30,5))\n",
    "saleoc = df.groupby([\"Product_Category\"], as_index = False)[\"Amount\"].sum().sort_values(by = \"Amount\", ascending = False)\n",
    "ff = sns.barplot(x = \"Product_Category\", y = \"Amount\", data = saleoc, palette = \"gist_ncar\")\n",
    "for i in ff.containers:\n",
    "    ff.bar_label(i)\n",
    "plt.show()"
   ]
  },
  {
   "cell_type": "code",
   "execution_count": 44,
   "id": "db2cb893",
   "metadata": {
    "execution": {
     "iopub.execute_input": "2024-05-08T06:16:52.347351Z",
     "iopub.status.busy": "2024-05-08T06:16:52.346677Z",
     "iopub.status.idle": "2024-05-08T06:16:52.717052Z",
     "shell.execute_reply": "2024-05-08T06:16:52.715833Z"
    },
    "papermill": {
     "duration": 0.393596,
     "end_time": "2024-05-08T06:16:52.718981",
     "exception": false,
     "start_time": "2024-05-08T06:16:52.325385",
     "status": "completed"
    },
    "tags": []
   },
   "outputs": [
    {
     "data": {
      "image/png": "[encoded data removed]",
      "text/plain": [
       "<Figure size 1500x500 with 1 Axes>"
      ]
     },
     "metadata": {},
     "output_type": "display_data"
    }
   ],
   "source": [
    "plt.figure(figsize = (15,5))\n",
    "kk = df.groupby([\"Product_ID\"], as_index = False)[\"Orders\"].sum().sort_values(by = \"Orders\", ascending = False).head(10)\n",
    "kh = sns.barplot(x = \"Product_ID\", y = \"Orders\", data = kk, palette = \"gist_ncar\")\n",
    "for i in kh.containers:\n",
    "    kh.bar_label(i)\n",
    "plt.show()"
   ]
  },
  {
   "cell_type": "code",
   "execution_count": null,
   "id": "5ff25455",
   "metadata": {
    "papermill": {
     "duration": 0.019538,
     "end_time": "2024-05-08T06:16:52.757950",
     "exception": false,
     "start_time": "2024-05-08T06:16:52.738412",
     "status": "completed"
    },
    "tags": []
   },
   "outputs": [],
   "source": []
  }
 ],
 "metadata": {
  "kaggle": {
   "accelerator": "none",
   "dataSources": [
    {
     "datasetId": 3157185,
     "sourceId": 5465755,
     "sourceType": "datasetVersion"
    }
   ],
   "dockerImageVersionId": 30664,
   "isGpuEnabled": false,
   "isInternetEnabled": false,
   "language": "python",
   "sourceType": "notebook"
  },
  "kernelspec": {
   "display_name": "base",
   "language": "python",
   "name": "python3"
  },
  "language_info": {
   "codemirror_mode": {
    "name": "ipython",
    "version": 3
   },
   "file_extension": ".py",
   "mimetype": "text/x-python",
   "name": "python",
   "nbconvert_exporter": "python",
   "pygments_lexer": "ipython3",
   "version": "3.12.7"
  },
  "papermill": {
   "default_parameters": {},
   "duration": 11.92135,
   "end_time": "2024-05-08T06:16:53.498921",
   "environment_variables": {},
   "exception": null,
   "input_path": "__notebook__.ipynb",
   "output_path": "__notebook__.ipynb",
   "parameters": {},
   "start_time": "2024-05-08T06:16:41.577571",
   "version": "2.5.0"
  }
 },
 "nbformat": 4,
 "nbformat_minor": 5
}
